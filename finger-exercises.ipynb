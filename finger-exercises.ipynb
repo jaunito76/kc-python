{
 "cells": [
  {
   "cell_type": "code",
   "execution_count": null,
   "metadata": {},
   "outputs": [],
   "source": [
    "# 5.2 - Write an express that evaluate to the mean of a tuple of numbers \n",
    "# Use the function sum\n",
    "tup = (1,2,3,4,5)\n",
    "sum(tup)/len(tup)\n"
   ]
  },
  {
   "cell_type": "code",
   "execution_count": null,
   "metadata": {},
   "outputs": [],
   "source": [
    "L = [1,2,3]\n",
    "L.append(L)\n",
    "print(L is L[-1]) \n",
    "print(L)"
   ]
  },
  {
   "cell_type": "code",
   "execution_count": null,
   "metadata": {},
   "outputs": [],
   "source": [
    "[x for x in range(2, 100) if any(x%y == 0 for y in range(2,x))]"
   ]
  },
  {
   "cell_type": "code",
   "execution_count": 9,
   "metadata": {},
   "outputs": [
    {
     "name": "stdout",
     "output_type": "stream",
     "text": [
      "Primes [2, 3, 4, 5, 7, 11, 13, 17, 19, 23, 29, 31, 37, 41, 43, 47, 53, 59, 61, 67, 71, 73, 79, 83, 89, 97] \n",
      "Non-primes [6, 8, 9, 10, 12, 14, 15, 16, 18, 20, 21, 22, 24, 25, 26, 27, 28, 30, 32, 33, 34, 35, 36, 38, 39, 40, 42, 44, 45, 46, 48, 49, 50, 51, 52, 54, 55, 56, 57, 58, 60, 62, 63, 64, 65, 66, 68, 69, 70, 72, 74, 75, 76, 77, 78, 80, 81, 82, 84, 85, 86, 87, 88, 90, 91, 92, 93, 94, 95, 96, 98, 99]\n"
     ]
    }
   ],
   "source": [
    "primes = [x for x in range(2, 100) if all(x%y != 0 for y in range(3,x))]            # Prime number generator 0-100\n",
    "        \n",
    "\n",
    "\n",
    "\n",
    "\n",
    "\n",
    "\n",
    "\n",
    "\n",
    "\n",
    "\n",
    "\n",
    "\n",
    "nonprimes = [x for x in range(2, 100) if any(x%y == 0 for y in range(3,x))]         # Non-Prime number generator\n",
    "print('Primes',primes,'\\nNon-primes',nonprimes)"
   ]
  },
  {
   "cell_type": "code",
   "execution_count": 17,
   "metadata": {},
   "outputs": [
    {
     "name": "stdout",
     "output_type": "stream",
     "text": [
      "[(1, 2), (2, 3)]\n"
     ]
    },
    {
     "data": {
      "text/plain": [
       "9"
      ]
     },
     "execution_count": 17,
     "metadata": {},
     "output_type": "execute_result"
    }
   ],
   "source": [
    "def f(L1, L2):\n",
    "    \"\"\"L1, L2 lists of same length of numbers \n",
    "    returns the sume of raising each element in L1 \n",
    "    to the power of the element at the same index in L2\n",
    "    For example, f([1,2],[2,3]) returns 9\"\"\"\n",
    "    return sum([x**y for x,y in zip(L1, L2)])\n",
    "\n",
    "f([1,2],[2,3])"
   ]
  },
  {
   "cell_type": "code",
   "execution_count": 2,
   "metadata": {},
   "outputs": [
    {
     "name": "stdout",
     "output_type": "stream",
     "text": [
      "['x', 'b']\n",
      "['b', 'x']\n"
     ]
    },
    {
     "data": {
      "text/plain": [
       "12"
      ]
     },
     "execution_count": 2,
     "metadata": {},
     "output_type": "execute_result"
    }
   ],
   "source": [
    "def get_min(d):\n",
    "    \"\"\"d a dict mapping letters to ints\n",
    "    returns the value in d with the key that occurs first in the \n",
    "    alphabet. E.g., if d = {x = 11, b = 12}, get_min returns 12\"\"\"\n",
    "    key_list = list(d.keys())\n",
    "    # print(key_list)\n",
    "    key_list.sort()\n",
    "    # print(key_list)\n",
    "    return d[key_list[0]]\n",
    "\n",
    "get_min({'x':11, 'b':12})"
   ]
  },
  {
   "cell_type": "code",
   "execution_count": 29,
   "metadata": {},
   "outputs": [
    {
     "name": "stdout",
     "output_type": "stream",
     "text": [
      "['x', 'b']\n"
     ]
    }
   ],
   "source": [
    "d = {'x':11, 'b':12}\n",
    "print(list(d.keys()).sort())"
   ]
  },
  {
   "cell_type": "code",
   "execution_count": 1,
   "metadata": {},
   "outputs": [
    {
     "ename": "TypeError",
     "evalue": "unsupported operand type(s) for +: 'int' and 'str'",
     "output_type": "error",
     "traceback": [
      "\u001b[1;31m---------------------------------------------------------------------------\u001b[0m",
      "\u001b[1;31mTypeError\u001b[0m                                 Traceback (most recent call last)",
      "\u001b[1;32mc:\\Users\\ClintonKliethermes\\OneDrive\\School\\2023-2024\\01 Dad\\01 Computer Science\\kc-python23\\kc-python23\\finger-exercises.ipynb Cell 8\u001b[0m line \u001b[0;36m1\n\u001b[1;32m----> <a href='vscode-notebook-cell:/c%3A/Users/ClintonKliethermes/OneDrive/School/2023-2024/01%20Dad/01%20Computer%20Science/kc-python23/kc-python23/finger-exercises.ipynb#X10sZmlsZQ%3D%3D?line=0'>1</a>\u001b[0m \u001b[39mprint\u001b[39m(\u001b[39m3\u001b[39;49m\u001b[39m+\u001b[39;49m\u001b[39m4\u001b[39;49m\u001b[39m+\u001b[39;49m\u001b[39m\"\u001b[39;49m\u001b[39m5\u001b[39;49m\u001b[39m\"\u001b[39;49m)\n",
      "\u001b[1;31mTypeError\u001b[0m: unsupported operand type(s) for +: 'int' and 'str'"
     ]
    }
   ],
   "source": [
    "print(3+4+\"5\")"
   ]
  },
  {
   "cell_type": "code",
   "execution_count": 6,
   "metadata": {},
   "outputs": [
    {
     "name": "stdout",
     "output_type": "stream",
     "text": [
      "['a', 'b', 'x']\n",
      "['a', 'b', 'x', 5]\n"
     ]
    }
   ],
   "source": [
    "L = ['a', 'b'] \n",
    "L += 'x'\n",
    "print(L)\n",
    "L.append(5)\n",
    "print(L)"
   ]
  },
  {
   "cell_type": "code",
   "execution_count": 8,
   "metadata": {},
   "outputs": [
    {
     "name": "stdout",
     "output_type": "stream",
     "text": [
      "2\n",
      "4\n",
      "6\n",
      "8\n",
      "10\n"
     ]
    }
   ],
   "source": [
    "# For loop that prints all even numbers from 1 to 10\n",
    "for i in range(2,11):\n",
    "    if i%2==0:\n",
    "        print(i)"
   ]
  },
  {
   "cell_type": "code",
   "execution_count": 9,
   "metadata": {},
   "outputs": [
    {
     "ename": "TypeError",
     "evalue": "'int' object is not iterable",
     "output_type": "error",
     "traceback": [
      "\u001b[1;31m---------------------------------------------------------------------------\u001b[0m",
      "\u001b[1;31mTypeError\u001b[0m                                 Traceback (most recent call last)",
      "\u001b[1;32mc:\\Users\\ClintonKliethermes\\OneDrive\\School\\2023-2024\\01 Dad\\01 Computer Science\\kc-python23\\kc-python23\\finger-exercises.ipynb Cell 11\u001b[0m line \u001b[0;36m4\n\u001b[0;32m      <a href='vscode-notebook-cell:/c%3A/Users/ClintonKliethermes/OneDrive/School/2023-2024/01%20Dad/01%20Computer%20Science/kc-python23/kc-python23/finger-exercises.ipynb#X13sZmlsZQ%3D%3D?line=1'>2</a>\u001b[0m \u001b[39mwhile\u001b[39;00m L \u001b[39m<\u001b[39m \u001b[39m100\u001b[39m:\n\u001b[0;32m      <a href='vscode-notebook-cell:/c%3A/Users/ClintonKliethermes/OneDrive/School/2023-2024/01%20Dad/01%20Computer%20Science/kc-python23/kc-python23/finger-exercises.ipynb#X13sZmlsZQ%3D%3D?line=2'>3</a>\u001b[0m     L \u001b[39m+\u001b[39m\u001b[39m=\u001b[39m \u001b[39m1\u001b[39m\n\u001b[1;32m----> <a href='vscode-notebook-cell:/c%3A/Users/ClintonKliethermes/OneDrive/School/2023-2024/01%20Dad/01%20Computer%20Science/kc-python23/kc-python23/finger-exercises.ipynb#X13sZmlsZQ%3D%3D?line=3'>4</a>\u001b[0m     \u001b[39mfor\u001b[39;00m x \u001b[39min\u001b[39;00m L:\n\u001b[0;32m      <a href='vscode-notebook-cell:/c%3A/Users/ClintonKliethermes/OneDrive/School/2023-2024/01%20Dad/01%20Computer%20Science/kc-python23/kc-python23/finger-exercises.ipynb#X13sZmlsZQ%3D%3D?line=4'>5</a>\u001b[0m         x\u001b[39m%\u001b[39m\u001b[39m2\u001b[39m\n\u001b[0;32m      <a href='vscode-notebook-cell:/c%3A/Users/ClintonKliethermes/OneDrive/School/2023-2024/01%20Dad/01%20Computer%20Science/kc-python23/kc-python23/finger-exercises.ipynb#X13sZmlsZQ%3D%3D?line=5'>6</a>\u001b[0m         \u001b[39mif\u001b[39;00m x\u001b[39m==\u001b[39m\u001b[39m0\u001b[39m:\n",
      "\u001b[1;31mTypeError\u001b[0m: 'int' object is not iterable"
     ]
    }
   ],
   "source": [
    "L =0\n",
    "while L < 100:\n",
    "    L += 1\n",
    "    for x in L:\n",
    "        x%2\n",
    "        if x==0:\n",
    "            print(x)"
   ]
  },
  {
   "cell_type": "code",
   "execution_count": 13,
   "metadata": {},
   "outputs": [
    {
     "name": "stdout",
     "output_type": "stream",
     "text": [
      "9\n",
      "8\n",
      "7\n",
      "6\n",
      "5\n",
      "4\n",
      "3\n",
      "2\n",
      "1\n",
      "0\n"
     ]
    }
   ],
   "source": [
    "i = 10\n",
    "while i > 0:\n",
    "    i -= 1\n",
    "    print(i)"
   ]
  },
  {
   "cell_type": "code",
   "execution_count": 15,
   "metadata": {},
   "outputs": [
    {
     "name": "stdout",
     "output_type": "stream",
     "text": [
      "0\n"
     ]
    }
   ],
   "source": [
    "L = []\n",
    "mysum = 0\n",
    "for x in L:\n",
    "    mysum += x\n",
    "print(mysum)"
   ]
  },
  {
   "cell_type": "code",
   "execution_count": 16,
   "metadata": {},
   "outputs": [
    {
     "data": {
      "text/plain": [
       "['h', 'e', 'l', 'l', 'o']"
      ]
     },
     "execution_count": 16,
     "metadata": {},
     "output_type": "execute_result"
    }
   ],
   "source": [
    "list(\"hello\")"
   ]
  },
  {
   "cell_type": "code",
   "execution_count": 17,
   "metadata": {},
   "outputs": [
    {
     "name": "stdout",
     "output_type": "stream",
     "text": [
      "1\n",
      "2\n",
      "3\n"
     ]
    }
   ],
   "source": [
    "T = (1,2,3)\n",
    "for i in T:\n",
    "    print(i)"
   ]
  },
  {
   "cell_type": "code",
   "execution_count": 18,
   "metadata": {},
   "outputs": [
    {
     "data": {
      "text/plain": [
       "[1, 4, 9]"
      ]
     },
     "execution_count": 18,
     "metadata": {},
     "output_type": "execute_result"
    }
   ],
   "source": [
    "L = [1,2,3]\n",
    "[x**2 for x in L]"
   ]
  },
  {
   "cell_type": "code",
   "execution_count": 4,
   "metadata": {},
   "outputs": [
    {
     "name": "stdout",
     "output_type": "stream",
     "text": [
      "hey you guys\n"
     ]
    }
   ],
   "source": [
    "def hello(s):\n",
    "    print(s)\n",
    "\n",
    "\n",
    "hello('hey you guys')    "
   ]
  },
  {
   "cell_type": "code",
   "execution_count": 14,
   "metadata": {},
   "outputs": [
    {
     "name": "stdout",
     "output_type": "stream",
     "text": [
      "['A', 'B', 'C']\n",
      "dict_keys(['Alex', 'Bobby', 'Charlie'])\n"
     ]
    }
   ],
   "source": [
    "grades = {'Alex':'A', 'Bobby':'B', 'Charlie':'C'}\n",
    "grades['Alex']\n",
    "print(list(grades.values()))\n",
    "print(grades.keys())"
   ]
  },
  {
   "cell_type": "code",
   "execution_count": 9,
   "metadata": {},
   "outputs": [
    {
     "name": "stdout",
     "output_type": "stream",
     "text": [
      "[21, 42, 63, 84, 105]\n"
     ]
    }
   ],
   "source": [
    "L = [1,2,3,4,5]\n",
    "def applyToEach(L, f):\n",
    "    for i in range(len(L)):\n",
    "        L[i] = f(L[i])\n",
    "        \n",
    "def addOne(i):\n",
    "    return i*21\n",
    "        \n",
    "applyToEach(L, addOne)\n",
    "print(L)"
   ]
  },
  {
   "cell_type": "code",
   "execution_count": 2,
   "metadata": {},
   "outputs": [
    {
     "name": "stdout",
     "output_type": "stream",
     "text": [
      "['hello', 'foolish', 'humans.', 'how', 'well', 'do', 'you', 'think', 'you', 'thought', 'this', 'through']\n",
      "{'hello': 1, 'foolish': 1, 'humans.': 1, 'how': 1, 'well': 1, 'do': 1, 'you': 2, 'think': 1, 'thought': 1, 'this': 1, 'through': 1}\n",
      "{'h': 10, 'e': 2, 'l': 5, 'o': 9, ' ': 11, 'f': 1, 'i': 3, 's': 3, 'u': 5, 'm': 1, 'a': 1, 'n': 2, '.': 1, 'w': 2, 'd': 1, 'y': 2, 't': 5, 'k': 1, 'g': 2, 'r': 1}\n"
     ]
    }
   ],
   "source": [
    "def lyrics_to_frequencies(lyrics):\n",
    "    xyz = {}\n",
    "    for word in lyrics:\n",
    "        if word in xyz:\n",
    "            xyz[word] += 1\n",
    "        else:\n",
    "            xyz[word] = 1\n",
    "    return xyz\n",
    "lyrics_string = \"\"\"hello foolish humans. how well do you think you thought this through\"\"\"\n",
    "lyrics_string = lyrics_string.replace(',','')\n",
    "lyrics = lyrics_string.split()\n",
    "print(lyrics)\n",
    "print(lyrics_to_frequencies(lyrics))\n",
    "print(lyrics_to_frequencies(lyrics_string))"
   ]
  },
  {
   "cell_type": "code",
   "execution_count": 36,
   "metadata": {},
   "outputs": [
    {
     "data": {
      "text/plain": [
       "9227465"
      ]
     },
     "execution_count": 36,
     "metadata": {},
     "output_type": "execute_result"
    }
   ],
   "source": [
    "def fib(n):\n",
    "    if n == 1:\n",
    "        #print('base 1')\n",
    "        return 1\n",
    "    elif n == 2: \n",
    "        #print('base 2')\n",
    "        return 2\n",
    "    else:\n",
    "        #print(n)\n",
    "        return fib(n-1) + fib(n-2)\n",
    "    \n",
    "    \n",
    "fib(34)"
   ]
  },
  {
   "cell_type": "markdown",
   "metadata": {},
   "source": [
    "# Week 10 Lecture - Chapters 5/6 \n",
    "## More Dictonary use cases & Recursion\n",
    "\n",
    "Growth of a rabit population over a short period of time. Rabbits are able to reproduce 1 month after they are born and their justation (prgnant) duration is approximately 1 month. *These assumptions may not be true, but for the purposes of our model that is what we will assume*\n",
    "\n",
    "```python\n",
    " females(0) = 1         # This is one rabbit to start the gene pool on the last day of the month she is ready to concieve\n",
    " females(1) = 1         # On the last day of the second month she is pregnant and will give birth the next day\n",
    " females(2) = 2         # At the end of the third month there is 2 females, one pregnant, one not \n",
    " females(3) = 3         # Fourth month, we have 3 females, 1 about to give birth, 2 about to get pregnant, and 1 just born\n",
    "```\n",
    "\n",
    " | Month    |   Rabbits     |\n",
    " |:--------:|:-------------:|\n",
    " |  0       |   1           |\n",
    " |  1       |   1           |\n",
    " |  2       |   2           |\n",
    " |  3       |   3           |\n",
    " |  4       |   5           |\n",
    " |  5       |   8           |\n",
    " |  6       |   13          |\n",
    "\n",
    "fib(n) = fib(n-1) + fib(n-2)"
   ]
  },
  {
   "cell_type": "code",
   "execution_count": 5,
   "metadata": {},
   "outputs": [
    {
     "name": "stdout",
     "output_type": "stream",
     "text": [
      "63245986 times_called 126491971\n"
     ]
    }
   ],
   "source": [
    "def fib(x):\n",
    "    \"\"\"Assumes x an int >= 0\n",
    "       Returns Fibonacci of x\"\"\"\n",
    "    global num_fib_calls\n",
    "    num_fib_calls += 1\n",
    "    if x == 0 or x == 1:\n",
    "        return 1\n",
    "    else:\n",
    "        return fib(x-1) + fib(x-2)\n",
    "\n",
    "def test_fib(n):\n",
    "    for i in range(n+1):\n",
    "        global num_fib_calls\n",
    "        num_fib_calls = 0\n",
    "        print('fib of', i, '=', fib(i))\n",
    "        print('fib called', num_fib_calls, 'times.')\n",
    "        \n",
    "num_fib_calls = 0\n",
    "print(fib(38), 'times_called', num_fib_calls)"
   ]
  },
  {
   "cell_type": "markdown",
   "metadata": {},
   "source": [
    "### Now using a dictionary"
   ]
  },
  {
   "cell_type": "code",
   "execution_count": 11,
   "metadata": {},
   "outputs": [
    {
     "name": "stdout",
     "output_type": "stream",
     "text": [
      "63245986 times called 75\n"
     ]
    }
   ],
   "source": [
    "\n",
    "def fib_dict(x):\n",
    "    myDict = {0:1, 1:1}\n",
    "    def fib(x,d):\n",
    "        global fib_dict_calls \n",
    "        fib_dict_calls += 1\n",
    "        if x in d:\n",
    "            return d[x]\n",
    "        else:\n",
    "            d[x] = fib(x-1, d) + fib(x-2, d)\n",
    "            return d[x]\n",
    "    return fib(x, myDict)\n",
    "fib_dict_calls = 0\n",
    "print(fib_dict(38), 'times called', fib_dict_calls)\n"
   ]
  },
  {
   "cell_type": "code",
   "execution_count": 26,
   "metadata": {},
   "outputs": [
    {
     "name": "stdout",
     "output_type": "stream",
     "text": [
      "1346269 times_called 59\n"
     ]
    }
   ],
   "source": [
    "fib_dict_calls = 0\n",
    "print(fib_dict(30), 'times_called',fib_dict_calls)"
   ]
  },
  {
   "cell_type": "markdown",
   "metadata": {},
   "source": [
    "### More Fibonacci algorythms "
   ]
  },
  {
   "cell_type": "code",
   "execution_count": 12,
   "metadata": {},
   "outputs": [],
   "source": [
    "def fib2(n):    # write Fibonacci series up to n\n",
    "    \"\"\"Print a Fibonacci series up to n.\"\"\"\n",
    "    a, b = 0, 1\n",
    "    while a < n:\n",
    "        print(a, end=' ')\n",
    "        a, b = b, a+b\n",
    "    print()"
   ]
  },
  {
   "cell_type": "code",
   "execution_count": 13,
   "metadata": {},
   "outputs": [
    {
     "name": "stdout",
     "output_type": "stream",
     "text": [
      "0 1 1 2 3 5 8 13 21 34 \n"
     ]
    }
   ],
   "source": [
    "fib2(38)"
   ]
  },
  {
   "cell_type": "code",
   "execution_count": 16,
   "metadata": {},
   "outputs": [
    {
     "name": "stdout",
     "output_type": "stream",
     "text": [
      "63245986 iterations 0\n"
     ]
    }
   ],
   "source": [
    "def fib3(n):\n",
    "    \"\"\"Print a Fibonacci series of order n\"\"\"\n",
    "    global num_iterations\n",
    "    a, b = 0, 1\n",
    "    for i in range(n+2):\n",
    "        #print(f'[{a}]', end=' ')\n",
    "        num_iterations += 1\n",
    "        # print(a, 'iter', num_iterations, end=' ' )\n",
    "        a, b = b, a+b\n",
    "    return a\n",
    "\n",
    "global num_iterations\n",
    "num_iterations = 0\n",
    "print(fib(38), 'iterations', num_iterations)"
   ]
  },
  {
   "cell_type": "code",
   "execution_count": 38,
   "metadata": {},
   "outputs": [
    {
     "name": "stdout",
     "output_type": "stream",
     "text": [
      "0 iter 11 1 iter 12 1 iter 13 2 iter 14 3 iter 15 5 iter 16 8 iter 17 13 iter 18 21 iter 19 34 iter 20 55 iter 21 89 iter 22 144 iter 23 233 iter 24 377 iter 25 610 iter 26 987 iter 27 1597 iter 28 2584 iter 29 4181 iter 30 6765 iter 31 10946 iter 32 17711 iter 33 28657 iter 34 46368 iter 35 75025 iter 36 121393 iter 37 196418 iter 38 317811 iter 39 514229 iter 40 832040 iter 41 1346269 iter 42 \n"
     ]
    }
   ],
   "source": [
    "fib3(100)"
   ]
  },
  {
   "cell_type": "markdown",
   "metadata": {},
   "source": [
    "## Palindromes\n",
    "\n",
    "```python\n",
    "          answer = s[0] == s[-1] and is_pal(s[1:-1])\n",
    "```\n",
    "\n"
   ]
  },
  {
   "cell_type": "code",
   "execution_count": 6,
   "metadata": {},
   "outputs": [
    {
     "name": "stdout",
     "output_type": "stream",
     "text": [
      "  is_pal called with billscarwash\n",
      "  About to return False for billscarwash\n",
      "False\n",
      "  is_pal called with tacocat\n",
      "  is_pal called with acoca\n",
      "  is_pal called with coc\n",
      "  is_pal called with o\n",
      "  About to return True from base case\n",
      "  About to return True for coc\n",
      "  About to return True for acoca\n",
      "  About to return True for tacocat\n",
      "True\n",
      "  is_pal called with dogood\n",
      "  is_pal called with ogoo\n",
      "  is_pal called with go\n",
      "  About to return False for go\n",
      "  About to return False for ogoo\n",
      "  About to return False for dogood\n",
      "False\n",
      "  is_pal called with racecar\n",
      "  is_pal called with aceca\n",
      "  is_pal called with cec\n",
      "  is_pal called with e\n",
      "  About to return True from base case\n",
      "  About to return True for cec\n",
      "  About to return True for aceca\n",
      "  About to return True for racecar\n",
      "True\n",
      "  is_pal called with madamimadam\n",
      "  is_pal called with adamimada\n",
      "  is_pal called with damimad\n",
      "  is_pal called with amima\n",
      "  is_pal called with mim\n",
      "  is_pal called with i\n",
      "  About to return True from base case\n",
      "  About to return True for mim\n",
      "  About to return True for amima\n",
      "  About to return True for damimad\n",
      "  About to return True for adamimada\n",
      "  About to return True for madamimadam\n",
      "True\n"
     ]
    }
   ],
   "source": [
    "def is_palindrome(s):\n",
    "   \"\"\"Assumes s is a str\n",
    "      Returns True if s is a palindrome; False otherwise.\n",
    "       Punctuation marks, blanks, and capitalization are ignored.\"\"\"\n",
    "   ALPHABET = 'abcdefghijklmnopqrstuvwxyz'\n",
    "   \n",
    "   def to_chars(s: str) -> str:\n",
    "      s = s.lower()\n",
    "      letters = ''\n",
    "      for c in s:\n",
    "        if c in ALPHABET:\n",
    "            letters = letters + c\n",
    "      return letters\n",
    "\n",
    "   def is_pal(s: str) -> bool:\n",
    "      print('  is_pal called with', s)\n",
    "      if len(s) <= 1:\n",
    "         print('  About to return True from base case')\n",
    "         return True\n",
    "      else:\n",
    "         answer = s[0] == s[-1] and is_pal(s[1:-1])\n",
    "         print('  About to return', answer, 'for', s)\n",
    "         return answer\n",
    "         \n",
    "   return is_pal(to_chars(s))\n",
    "\n",
    "print(is_palindrome('bills carwash'))\n",
    "print(is_palindrome('taco Cat'))\n",
    "print(is_palindrome('do good'))\n",
    "print(is_palindrome('racecar'))\n",
    "print(is_palindrome('madam im adam'))"
   ]
  },
  {
   "cell_type": "code",
   "execution_count": 2,
   "metadata": {},
   "outputs": [
    {
     "name": "stdout",
     "output_type": "stream",
     "text": [
      "(3, 'Jim')\n",
      "(2, 'Jack')\n",
      "(4, 'Jane')\n",
      "(1, 'Jill')\n",
      "[(2, 'Jack'), (4, 'Jane'), (1, 'Jill'), (3, 'Jim')]\n"
     ]
    }
   ],
   "source": [
    "people = {3: \"Jim\", 2: \"Jack\", 4: \"Jane\", 1: \"Jill\"}\n",
    "\n",
    "def value_getter(item):\n",
    "    print(item)\n",
    "    return item[1]\n",
    "\n",
    "print(sorted(people.items(), key=value_getter))"
   ]
  },
  {
   "cell_type": "code",
   "execution_count": 20,
   "metadata": {},
   "outputs": [
    {
     "name": "stdout",
     "output_type": "stream",
     "text": [
      "3.141592653589793\n"
     ]
    }
   ],
   "source": [
    "from math import *\n",
    "\n",
    "print(math.pi)"
   ]
  },
  {
   "cell_type": "code",
   "execution_count": 10,
   "metadata": {},
   "outputs": [
    {
     "name": "stdout",
     "output_type": "stream",
     "text": [
      "1 THis is a new day!THis is a new day!\n",
      "2 THis is a new day!"
     ]
    }
   ],
   "source": [
    "fn = 'myfile.txt'\n",
    "file = open(fn,'r', encoding='utf8')\n",
    "i = 0\n",
    "for line in file:\n",
    "    i+=1\n",
    "    print(i, line, end='')\n",
    "file.close()"
   ]
  }
 ],
 "metadata": {
  "kernelspec": {
   "display_name": "Python 3",
   "language": "python",
   "name": "python3"
  },
  "language_info": {
   "codemirror_mode": {
    "name": "ipython",
    "version": 3
   },
   "file_extension": ".py",
   "mimetype": "text/x-python",
   "name": "python",
   "nbconvert_exporter": "python",
   "pygments_lexer": "ipython3",
   "version": "3.12.0"
  }
 },
 "nbformat": 4,
 "nbformat_minor": 2
}
