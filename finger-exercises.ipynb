{
 "cells": [
  {
   "cell_type": "code",
   "execution_count": null,
   "metadata": {},
   "outputs": [],
   "source": [
    "# 5.2 - Write an express that evaluate to the mean of a tuple of numbers \n",
    "# Use the function sum\n",
    "tup = (1,2,3,4,5)\n",
    "sum(tup)/len(tup)\n"
   ]
  },
  {
   "cell_type": "code",
   "execution_count": null,
   "metadata": {},
   "outputs": [],
   "source": [
    "L = [1,2,3]\n",
    "L.append(L)\n",
    "print(L is L[-1]) \n",
    "print(L)"
   ]
  },
  {
   "cell_type": "code",
   "execution_count": 1,
   "metadata": {},
   "outputs": [
    {
     "data": {
      "text/plain": [
       "[4,\n",
       " 6,\n",
       " 8,\n",
       " 9,\n",
       " 10,\n",
       " 12,\n",
       " 14,\n",
       " 15,\n",
       " 16,\n",
       " 18,\n",
       " 20,\n",
       " 21,\n",
       " 22,\n",
       " 24,\n",
       " 25,\n",
       " 26,\n",
       " 27,\n",
       " 28,\n",
       " 30,\n",
       " 32,\n",
       " 33,\n",
       " 34,\n",
       " 35,\n",
       " 36,\n",
       " 38,\n",
       " 39,\n",
       " 40,\n",
       " 42,\n",
       " 44,\n",
       " 45,\n",
       " 46,\n",
       " 48,\n",
       " 49,\n",
       " 50,\n",
       " 51,\n",
       " 52,\n",
       " 54,\n",
       " 55,\n",
       " 56,\n",
       " 57,\n",
       " 58,\n",
       " 60,\n",
       " 62,\n",
       " 63,\n",
       " 64,\n",
       " 65,\n",
       " 66,\n",
       " 68,\n",
       " 69,\n",
       " 70,\n",
       " 72,\n",
       " 74,\n",
       " 75,\n",
       " 76,\n",
       " 77,\n",
       " 78,\n",
       " 80,\n",
       " 81,\n",
       " 82,\n",
       " 84,\n",
       " 85,\n",
       " 86,\n",
       " 87,\n",
       " 88,\n",
       " 90,\n",
       " 91,\n",
       " 92,\n",
       " 93,\n",
       " 94,\n",
       " 95,\n",
       " 96,\n",
       " 98,\n",
       " 99]"
      ]
     },
     "execution_count": 1,
     "metadata": {},
     "output_type": "execute_result"
    }
   ],
   "source": [
    "[x for x in range(2, 100) if any(x%y == 0 for y in range(2,x))]"
   ]
  },
  {
   "cell_type": "code",
   "execution_count": 5,
   "metadata": {},
   "outputs": [
    {
     "name": "stdout",
     "output_type": "stream",
     "text": [
      "Primes [2, 3, 4, 5, 7, 11, 13, 17, 19, 23, 29, 31, 37, 41, 43, 47, 53, 59, 61, 67, 71, 73, 79, 83, 89, 97, 101, 103, 107, 109, 113, 127, 131, 137, 139, 149, 151, 157, 163, 167, 173, 179, 181, 191, 193, 197, 199, 211, 223, 227, 229, 233, 239, 241, 251, 257, 263, 269, 271, 277, 281, 283, 293, 307, 311, 313, 317, 331, 337, 347, 349, 353, 359, 367, 373, 379, 383, 389, 397, 401, 409, 419, 421, 431, 433, 439, 443, 449, 457, 461, 463, 467, 479, 487, 491, 499, 503, 509, 521, 523, 541, 547, 557, 563, 569, 571, 577, 587, 593, 599, 601, 607, 613, 617, 619, 631, 641, 643, 647, 653, 659, 661, 673, 677, 683, 691, 701, 709, 719, 727, 733, 739, 743, 751, 757, 761, 769, 773, 787, 797, 809, 811, 821, 823, 827, 829, 839, 853, 857, 859, 863, 877, 881, 883, 887, 907, 911, 919, 929, 937, 941, 947, 953, 967, 971, 977, 983, 991, 997] \n",
      "Non-primes [6, 8, 9, 10, 12, 14, 15, 16, 18, 20, 21, 22, 24, 25, 26, 27, 28, 30, 32, 33, 34, 35, 36, 38, 39, 40, 42, 44, 45, 46, 48, 49, 50, 51, 52, 54, 55, 56, 57, 58, 60, 62, 63, 64, 65, 66, 68, 69, 70, 72, 74, 75, 76, 77, 78, 80, 81, 82, 84, 85, 86, 87, 88, 90, 91, 92, 93, 94, 95, 96, 98, 99, 100, 102, 104, 105, 106, 108, 110, 111, 112, 114, 115, 116, 117, 118, 119, 120, 121, 122, 123, 124, 125, 126, 128, 129, 130, 132, 133, 134, 135, 136, 138, 140, 141, 142, 143, 144, 145, 146, 147, 148, 150, 152, 153, 154, 155, 156, 158, 159, 160, 161, 162, 164, 165, 166, 168, 169, 170, 171, 172, 174, 175, 176, 177, 178, 180, 182, 183, 184, 185, 186, 187, 188, 189, 190, 192, 194, 195, 196, 198, 200, 201, 202, 203, 204, 205, 206, 207, 208, 209, 210, 212, 213, 214, 215, 216, 217, 218, 219, 220, 221, 222, 224, 225, 226, 228, 230, 231, 232, 234, 235, 236, 237, 238, 240, 242, 243, 244, 245, 246, 247, 248, 249, 250, 252, 253, 254, 255, 256, 258, 259, 260, 261, 262, 264, 265, 266, 267, 268, 270, 272, 273, 274, 275, 276, 278, 279, 280, 282, 284, 285, 286, 287, 288, 289, 290, 291, 292, 294, 295, 296, 297, 298, 299, 300, 301, 302, 303, 304, 305, 306, 308, 309, 310, 312, 314, 315, 316, 318, 319, 320, 321, 322, 323, 324, 325, 326, 327, 328, 329, 330, 332, 333, 334, 335, 336, 338, 339, 340, 341, 342, 343, 344, 345, 346, 348, 350, 351, 352, 354, 355, 356, 357, 358, 360, 361, 362, 363, 364, 365, 366, 368, 369, 370, 371, 372, 374, 375, 376, 377, 378, 380, 381, 382, 384, 385, 386, 387, 388, 390, 391, 392, 393, 394, 395, 396, 398, 399, 400, 402, 403, 404, 405, 406, 407, 408, 410, 411, 412, 413, 414, 415, 416, 417, 418, 420, 422, 423, 424, 425, 426, 427, 428, 429, 430, 432, 434, 435, 436, 437, 438, 440, 441, 442, 444, 445, 446, 447, 448, 450, 451, 452, 453, 454, 455, 456, 458, 459, 460, 462, 464, 465, 466, 468, 469, 470, 471, 472, 473, 474, 475, 476, 477, 478, 480, 481, 482, 483, 484, 485, 486, 488, 489, 490, 492, 493, 494, 495, 496, 497, 498, 500, 501, 502, 504, 505, 506, 507, 508, 510, 511, 512, 513, 514, 515, 516, 517, 518, 519, 520, 522, 524, 525, 526, 527, 528, 529, 530, 531, 532, 533, 534, 535, 536, 537, 538, 539, 540, 542, 543, 544, 545, 546, 548, 549, 550, 551, 552, 553, 554, 555, 556, 558, 559, 560, 561, 562, 564, 565, 566, 567, 568, 570, 572, 573, 574, 575, 576, 578, 579, 580, 581, 582, 583, 584, 585, 586, 588, 589, 590, 591, 592, 594, 595, 596, 597, 598, 600, 602, 603, 604, 605, 606, 608, 609, 610, 611, 612, 614, 615, 616, 618, 620, 621, 622, 623, 624, 625, 626, 627, 628, 629, 630, 632, 633, 634, 635, 636, 637, 638, 639, 640, 642, 644, 645, 646, 648, 649, 650, 651, 652, 654, 655, 656, 657, 658, 660, 662, 663, 664, 665, 666, 667, 668, 669, 670, 671, 672, 674, 675, 676, 678, 679, 680, 681, 682, 684, 685, 686, 687, 688, 689, 690, 692, 693, 694, 695, 696, 697, 698, 699, 700, 702, 703, 704, 705, 706, 707, 708, 710, 711, 712, 713, 714, 715, 716, 717, 718, 720, 721, 722, 723, 724, 725, 726, 728, 729, 730, 731, 732, 734, 735, 736, 737, 738, 740, 741, 742, 744, 745, 746, 747, 748, 749, 750, 752, 753, 754, 755, 756, 758, 759, 760, 762, 763, 764, 765, 766, 767, 768, 770, 771, 772, 774, 775, 776, 777, 778, 779, 780, 781, 782, 783, 784, 785, 786, 788, 789, 790, 791, 792, 793, 794, 795, 796, 798, 799, 800, 801, 802, 803, 804, 805, 806, 807, 808, 810, 812, 813, 814, 815, 816, 817, 818, 819, 820, 822, 824, 825, 826, 828, 830, 831, 832, 833, 834, 835, 836, 837, 838, 840, 841, 842, 843, 844, 845, 846, 847, 848, 849, 850, 851, 852, 854, 855, 856, 858, 860, 861, 862, 864, 865, 866, 867, 868, 869, 870, 871, 872, 873, 874, 875, 876, 878, 879, 880, 882, 884, 885, 886, 888, 889, 890, 891, 892, 893, 894, 895, 896, 897, 898, 899, 900, 901, 902, 903, 904, 905, 906, 908, 909, 910, 912, 913, 914, 915, 916, 917, 918, 920, 921, 922, 923, 924, 925, 926, 927, 928, 930, 931, 932, 933, 934, 935, 936, 938, 939, 940, 942, 943, 944, 945, 946, 948, 949, 950, 951, 952, 954, 955, 956, 957, 958, 959, 960, 961, 962, 963, 964, 965, 966, 968, 969, 970, 972, 973, 974, 975, 976, 978, 979, 980, 981, 982, 984, 985, 986, 987, 988, 989, 990, 992, 993, 994, 995, 996, 998, 999]\n"
     ]
    }
   ],
   "source": [
    "primes = [x for x in range(2, 1000) if all(x%y != 0 for y in range(3,x))]            # Prime number generator 0-100\n",
    "        \n",
    "\n",
    "\n",
    "\n",
    "\n",
    "\n",
    "\n",
    "\n",
    "\n",
    "\n",
    "\n",
    "\n",
    "\n",
    "nonprimes = [x for x in range(2, 1000) if any(x%y == 0 for y in range(3,x))]         # Non-Prime number generator\n",
    "print('Primes',primes,'\\nNon-primes',nonprimes)"
   ]
  },
  {
   "cell_type": "code",
   "execution_count": 17,
   "metadata": {},
   "outputs": [
    {
     "name": "stdout",
     "output_type": "stream",
     "text": [
      "[(1, 2), (2, 3)]\n"
     ]
    },
    {
     "data": {
      "text/plain": [
       "9"
      ]
     },
     "execution_count": 17,
     "metadata": {},
     "output_type": "execute_result"
    }
   ],
   "source": [
    "def f(L1, L2):\n",
    "    \"\"\"L1, L2 lists of same length of numbers \n",
    "    returns the sume of raising each element in L1 \n",
    "    to the power of the element at the same index in L2\n",
    "    For example, f([1,2],[2,3]) returns 9\"\"\"\n",
    "    return sum([x**y for x,y in zip(L1, L2)])\n",
    "\n",
    "f([1,2],[2,3])"
   ]
  },
  {
   "cell_type": "code",
   "execution_count": 2,
   "metadata": {},
   "outputs": [
    {
     "data": {
      "text/plain": [
       "12"
      ]
     },
     "execution_count": 2,
     "metadata": {},
     "output_type": "execute_result"
    }
   ],
   "source": [
    "def get_min(d):\n",
    "    \"\"\"d a dict mapping letters to ints\n",
    "    returns the value in d with the key that occurs first in the \n",
    "    alphabet. E.g., if d = {x = 11, b = 12}, get_min returns 12\"\"\"\n",
    "    key_list = list(d.keys())\n",
    "    # print(key_list)\n",
    "    key_list.sort()\n",
    "    # print(key_list)\n",
    "    return d[key_list[0]]\n",
    "\n",
    "get_min({'x':11, 'b':12})"
   ]
  },
  {
   "cell_type": "code",
   "execution_count": 29,
   "metadata": {},
   "outputs": [
    {
     "name": "stdout",
     "output_type": "stream",
     "text": [
      "['x', 'b']\n"
     ]
    }
   ],
   "source": [
    "d = {'x':11, 'b':12}\n",
    "print(list(d.keys()).sort())"
   ]
  },
  {
   "cell_type": "code",
   "execution_count": 1,
   "metadata": {},
   "outputs": [
    {
     "ename": "TypeError",
     "evalue": "unsupported operand type(s) for +: 'int' and 'str'",
     "output_type": "error",
     "traceback": [
      "\u001b[1;31m---------------------------------------------------------------------------\u001b[0m",
      "\u001b[1;31mTypeError\u001b[0m                                 Traceback (most recent call last)",
      "\u001b[1;32mc:\\Users\\ClintonKliethermes\\OneDrive\\School\\2023-2024\\01 Dad\\01 Computer Science\\kc-python23\\kc-python23\\finger-exercises.ipynb Cell 8\u001b[0m line \u001b[0;36m1\n\u001b[1;32m----> <a href='vscode-notebook-cell:/c%3A/Users/ClintonKliethermes/OneDrive/School/2023-2024/01%20Dad/01%20Computer%20Science/kc-python23/kc-python23/finger-exercises.ipynb#X10sZmlsZQ%3D%3D?line=0'>1</a>\u001b[0m \u001b[39mprint\u001b[39m(\u001b[39m3\u001b[39;49m\u001b[39m+\u001b[39;49m\u001b[39m4\u001b[39;49m\u001b[39m+\u001b[39;49m\u001b[39m\"\u001b[39;49m\u001b[39m5\u001b[39;49m\u001b[39m\"\u001b[39;49m)\n",
      "\u001b[1;31mTypeError\u001b[0m: unsupported operand type(s) for +: 'int' and 'str'"
     ]
    }
   ],
   "source": [
    "print(3+4+\"5\")"
   ]
  },
  {
   "cell_type": "code",
   "execution_count": 6,
   "metadata": {},
   "outputs": [
    {
     "name": "stdout",
     "output_type": "stream",
     "text": [
      "['a', 'b', 'x']\n",
      "['a', 'b', 'x', 5]\n"
     ]
    }
   ],
   "source": [
    "L = ['a', 'b'] \n",
    "L += 'x'\n",
    "print(L)\n",
    "L.append(5)\n",
    "print(L)"
   ]
  },
  {
   "cell_type": "code",
   "execution_count": 8,
   "metadata": {},
   "outputs": [
    {
     "name": "stdout",
     "output_type": "stream",
     "text": [
      "2\n",
      "4\n",
      "6\n",
      "8\n",
      "10\n"
     ]
    }
   ],
   "source": [
    "# For loop that prints all even numbers from 1 to 10\n",
    "for i in range(2,11):\n",
    "    if i%2==0:\n",
    "        print(i)"
   ]
  },
  {
   "cell_type": "code",
   "execution_count": 9,
   "metadata": {},
   "outputs": [
    {
     "ename": "TypeError",
     "evalue": "'int' object is not iterable",
     "output_type": "error",
     "traceback": [
      "\u001b[1;31m---------------------------------------------------------------------------\u001b[0m",
      "\u001b[1;31mTypeError\u001b[0m                                 Traceback (most recent call last)",
      "\u001b[1;32mc:\\Users\\ClintonKliethermes\\OneDrive\\School\\2023-2024\\01 Dad\\01 Computer Science\\kc-python23\\kc-python23\\finger-exercises.ipynb Cell 11\u001b[0m line \u001b[0;36m4\n\u001b[0;32m      <a href='vscode-notebook-cell:/c%3A/Users/ClintonKliethermes/OneDrive/School/2023-2024/01%20Dad/01%20Computer%20Science/kc-python23/kc-python23/finger-exercises.ipynb#X13sZmlsZQ%3D%3D?line=1'>2</a>\u001b[0m \u001b[39mwhile\u001b[39;00m L \u001b[39m<\u001b[39m \u001b[39m100\u001b[39m:\n\u001b[0;32m      <a href='vscode-notebook-cell:/c%3A/Users/ClintonKliethermes/OneDrive/School/2023-2024/01%20Dad/01%20Computer%20Science/kc-python23/kc-python23/finger-exercises.ipynb#X13sZmlsZQ%3D%3D?line=2'>3</a>\u001b[0m     L \u001b[39m+\u001b[39m\u001b[39m=\u001b[39m \u001b[39m1\u001b[39m\n\u001b[1;32m----> <a href='vscode-notebook-cell:/c%3A/Users/ClintonKliethermes/OneDrive/School/2023-2024/01%20Dad/01%20Computer%20Science/kc-python23/kc-python23/finger-exercises.ipynb#X13sZmlsZQ%3D%3D?line=3'>4</a>\u001b[0m     \u001b[39mfor\u001b[39;00m x \u001b[39min\u001b[39;00m L:\n\u001b[0;32m      <a href='vscode-notebook-cell:/c%3A/Users/ClintonKliethermes/OneDrive/School/2023-2024/01%20Dad/01%20Computer%20Science/kc-python23/kc-python23/finger-exercises.ipynb#X13sZmlsZQ%3D%3D?line=4'>5</a>\u001b[0m         x\u001b[39m%\u001b[39m\u001b[39m2\u001b[39m\n\u001b[0;32m      <a href='vscode-notebook-cell:/c%3A/Users/ClintonKliethermes/OneDrive/School/2023-2024/01%20Dad/01%20Computer%20Science/kc-python23/kc-python23/finger-exercises.ipynb#X13sZmlsZQ%3D%3D?line=5'>6</a>\u001b[0m         \u001b[39mif\u001b[39;00m x\u001b[39m==\u001b[39m\u001b[39m0\u001b[39m:\n",
      "\u001b[1;31mTypeError\u001b[0m: 'int' object is not iterable"
     ]
    }
   ],
   "source": [
    "L =0\n",
    "while L < 100:\n",
    "    L += 1\n",
    "    for x in L:\n",
    "        x%2\n",
    "        if x==0:\n",
    "            print(x)"
   ]
  },
  {
   "cell_type": "code",
   "execution_count": 13,
   "metadata": {},
   "outputs": [
    {
     "name": "stdout",
     "output_type": "stream",
     "text": [
      "9\n",
      "8\n",
      "7\n",
      "6\n",
      "5\n",
      "4\n",
      "3\n",
      "2\n",
      "1\n",
      "0\n"
     ]
    }
   ],
   "source": [
    "i = 10\n",
    "while i > 0:\n",
    "    i -= 1\n",
    "    print(i)"
   ]
  },
  {
   "cell_type": "code",
   "execution_count": 15,
   "metadata": {},
   "outputs": [
    {
     "name": "stdout",
     "output_type": "stream",
     "text": [
      "0\n"
     ]
    }
   ],
   "source": [
    "L = []\n",
    "mysum = 0\n",
    "for x in L:\n",
    "    mysum += x\n",
    "print(mysum)"
   ]
  },
  {
   "cell_type": "code",
   "execution_count": 16,
   "metadata": {},
   "outputs": [
    {
     "data": {
      "text/plain": [
       "['h', 'e', 'l', 'l', 'o']"
      ]
     },
     "execution_count": 16,
     "metadata": {},
     "output_type": "execute_result"
    }
   ],
   "source": [
    "list(\"hello\")"
   ]
  },
  {
   "cell_type": "code",
   "execution_count": 17,
   "metadata": {},
   "outputs": [
    {
     "name": "stdout",
     "output_type": "stream",
     "text": [
      "1\n",
      "2\n",
      "3\n"
     ]
    }
   ],
   "source": [
    "T = (1,2,3)\n",
    "for i in T:\n",
    "    print(i)"
   ]
  },
  {
   "cell_type": "code",
   "execution_count": 18,
   "metadata": {},
   "outputs": [
    {
     "data": {
      "text/plain": [
       "[1, 4, 9]"
      ]
     },
     "execution_count": 18,
     "metadata": {},
     "output_type": "execute_result"
    }
   ],
   "source": [
    "L = [1,2,3]\n",
    "[x**2 for x in L]"
   ]
  },
  {
   "cell_type": "code",
   "execution_count": 4,
   "metadata": {},
   "outputs": [
    {
     "name": "stdout",
     "output_type": "stream",
     "text": [
      "hey you guys\n"
     ]
    }
   ],
   "source": [
    "def hello(s):\n",
    "    print(s)\n",
    "\n",
    "\n",
    "hello('hey you guys')    "
   ]
  },
  {
   "cell_type": "code",
   "execution_count": 14,
   "metadata": {},
   "outputs": [
    {
     "name": "stdout",
     "output_type": "stream",
     "text": [
      "['A', 'B', 'C']\n",
      "dict_keys(['Alex', 'Bobby', 'Charlie'])\n"
     ]
    }
   ],
   "source": [
    "grades = {'Alex':'A', 'Bobby':'B', 'Charlie':'C'}\n",
    "grades['Alex']\n",
    "print(list(grades.values()))\n",
    "print(grades.keys())"
   ]
  },
  {
   "cell_type": "code",
   "execution_count": 9,
   "metadata": {},
   "outputs": [
    {
     "name": "stdout",
     "output_type": "stream",
     "text": [
      "[21, 42, 63, 84, 105]\n"
     ]
    }
   ],
   "source": [
    "L = [1,2,3,4,5]\n",
    "def applyToEach(L, f):\n",
    "    for i in range(len(L)):\n",
    "        L[i] = f(L[i])\n",
    "        \n",
    "def addOne(i):\n",
    "    return i*21\n",
    "        \n",
    "applyToEach(L, addOne)\n",
    "print(L)"
   ]
  },
  {
   "cell_type": "code",
   "execution_count": 2,
   "metadata": {},
   "outputs": [
    {
     "name": "stdout",
     "output_type": "stream",
     "text": [
      "['hello', 'foolish', 'humans.', 'how', 'well', 'do', 'you', 'think', 'you', 'thought', 'this', 'through']\n",
      "{'hello': 1, 'foolish': 1, 'humans.': 1, 'how': 1, 'well': 1, 'do': 1, 'you': 2, 'think': 1, 'thought': 1, 'this': 1, 'through': 1}\n",
      "{'h': 10, 'e': 2, 'l': 5, 'o': 9, ' ': 11, 'f': 1, 'i': 3, 's': 3, 'u': 5, 'm': 1, 'a': 1, 'n': 2, '.': 1, 'w': 2, 'd': 1, 'y': 2, 't': 5, 'k': 1, 'g': 2, 'r': 1}\n"
     ]
    }
   ],
   "source": [
    "def lyrics_to_frequencies(lyrics):\n",
    "    xyz = {}\n",
    "    for word in lyrics:\n",
    "        if word in xyz:\n",
    "            xyz[word] += 1\n",
    "        else:\n",
    "            xyz[word] = 1\n",
    "    return xyz\n",
    "lyrics_string = \"\"\"hello foolish humans. how well do you think you thought this through\"\"\"\n",
    "lyrics_string = lyrics_string.replace(',','')\n",
    "lyrics = lyrics_string.split()\n",
    "print(lyrics)\n",
    "print(lyrics_to_frequencies(lyrics))\n",
    "print(lyrics_to_frequencies(lyrics_string))"
   ]
  },
  {
   "cell_type": "code",
   "execution_count": 36,
   "metadata": {},
   "outputs": [
    {
     "data": {
      "text/plain": [
       "9227465"
      ]
     },
     "execution_count": 36,
     "metadata": {},
     "output_type": "execute_result"
    }
   ],
   "source": [
    "def fib(n):\n",
    "    if n == 1:\n",
    "        #print('base 1')\n",
    "        return 1\n",
    "    elif n == 2: \n",
    "        #print('base 2')\n",
    "        return 2\n",
    "    else:\n",
    "        #print(n)\n",
    "        return fib(n-1) + fib(n-2)\n",
    "    \n",
    "    \n",
    "fib(34)"
   ]
  },
  {
   "cell_type": "markdown",
   "metadata": {},
   "source": [
    "# Week 10 Lecture - Chapters 5/6 \n",
    "## More Dictonary use cases & Recursion\n",
    "\n",
    "Growth of a rabit population over a short period of time. Rabbits are able to reproduce 1 month after they are born and their justation (prgnant) duration is approximately 1 month. *These assumptions may not be true, but for the purposes of our model that is what we will assume*\n",
    "\n",
    "```python\n",
    " females(0) = 1         # This is one rabbit to start the gene pool on the last day of the month she is ready to concieve\n",
    " females(1) = 1         # On the last day of the second month she is pregnant and will give birth the next day\n",
    " females(2) = 2         # At the end of the third month there is 2 females, one pregnant, one not \n",
    " females(3) = 3         # Fourth month, we have 3 females, 1 about to give birth, 2 about to get pregnant, and 1 just born\n",
    "```\n",
    "\n",
    " | Month    |   Rabbits     |\n",
    " |:--------:|:-------------:|\n",
    " |  0       |   1           |\n",
    " |  1       |   1           |\n",
    " |  2       |   2           |\n",
    " |  3       |   3           |\n",
    " |  4       |   5           |\n",
    " |  5       |   8           |\n",
    " |  6       |   13          |\n",
    "\n",
    "fib(n) = fib(n-1) + fib(n-2)"
   ]
  },
  {
   "cell_type": "code",
   "execution_count": 5,
   "metadata": {},
   "outputs": [
    {
     "name": "stdout",
     "output_type": "stream",
     "text": [
      "63245986 times_called 126491971\n"
     ]
    }
   ],
   "source": [
    "def fib(x):\n",
    "    \"\"\"Assumes x an int >= 0\n",
    "       Returns Fibonacci of x\"\"\"\n",
    "    global num_fib_calls\n",
    "    num_fib_calls += 1\n",
    "    if x == 0 or x == 1:\n",
    "        return 1\n",
    "    else:\n",
    "        return fib(x-1) + fib(x-2)\n",
    "\n",
    "def test_fib(n):\n",
    "    for i in range(n+1):\n",
    "        global num_fib_calls\n",
    "        num_fib_calls = 0\n",
    "        print('fib of', i, '=', fib(i))\n",
    "        print('fib called', num_fib_calls, 'times.')\n",
    "        \n",
    "num_fib_calls = 0\n",
    "print(fib(38), 'times_called', num_fib_calls)"
   ]
  },
  {
   "cell_type": "markdown",
   "metadata": {},
   "source": [
    "### Now using a dictionary"
   ]
  },
  {
   "cell_type": "code",
   "execution_count": 11,
   "metadata": {},
   "outputs": [
    {
     "name": "stdout",
     "output_type": "stream",
     "text": [
      "63245986 times called 75\n"
     ]
    }
   ],
   "source": [
    "\n",
    "def fib_dict(x):\n",
    "    myDict = {0:1, 1:1}\n",
    "    def fib(x,d):\n",
    "        global fib_dict_calls \n",
    "        fib_dict_calls += 1\n",
    "        if x in d:\n",
    "            return d[x]\n",
    "        else:\n",
    "            d[x] = fib(x-1, d) + fib(x-2, d)\n",
    "            return d[x]\n",
    "    return fib(x, myDict)\n",
    "fib_dict_calls = 0\n",
    "print(fib_dict(38), 'times called', fib_dict_calls)\n"
   ]
  },
  {
   "cell_type": "code",
   "execution_count": 26,
   "metadata": {},
   "outputs": [
    {
     "name": "stdout",
     "output_type": "stream",
     "text": [
      "1346269 times_called 59\n"
     ]
    }
   ],
   "source": [
    "fib_dict_calls = 0\n",
    "print(fib_dict(30), 'times_called',fib_dict_calls)"
   ]
  },
  {
   "cell_type": "markdown",
   "metadata": {},
   "source": [
    "### More Fibonacci algorythms "
   ]
  },
  {
   "cell_type": "code",
   "execution_count": 12,
   "metadata": {},
   "outputs": [],
   "source": [
    "def fib2(n):    # write Fibonacci series up to n\n",
    "    \"\"\"Print a Fibonacci series up to n.\"\"\"\n",
    "    a, b = 0, 1\n",
    "    while a < n:\n",
    "        print(a, end=' ')\n",
    "        a, b = b, a+b\n",
    "    print()"
   ]
  },
  {
   "cell_type": "code",
   "execution_count": 13,
   "metadata": {},
   "outputs": [
    {
     "name": "stdout",
     "output_type": "stream",
     "text": [
      "0 1 1 2 3 5 8 13 21 34 \n"
     ]
    }
   ],
   "source": [
    "fib2(38)"
   ]
  },
  {
   "cell_type": "code",
   "execution_count": 16,
   "metadata": {},
   "outputs": [
    {
     "name": "stdout",
     "output_type": "stream",
     "text": [
      "63245986 iterations 0\n"
     ]
    }
   ],
   "source": [
    "def fib3(n):\n",
    "    \"\"\"Print a Fibonacci series of order n\"\"\"\n",
    "    global num_iterations\n",
    "    a, b = 0, 1\n",
    "    for i in range(n+2):\n",
    "        #print(f'[{a}]', end=' ')\n",
    "        num_iterations += 1\n",
    "        # print(a, 'iter', num_iterations, end=' ' )\n",
    "        a, b = b, a+b\n",
    "    return a\n",
    "\n",
    "global num_iterations\n",
    "num_iterations = 0\n",
    "print(fib(38), 'iterations', num_iterations)"
   ]
  },
  {
   "cell_type": "code",
   "execution_count": 38,
   "metadata": {},
   "outputs": [
    {
     "name": "stdout",
     "output_type": "stream",
     "text": [
      "0 iter 11 1 iter 12 1 iter 13 2 iter 14 3 iter 15 5 iter 16 8 iter 17 13 iter 18 21 iter 19 34 iter 20 55 iter 21 89 iter 22 144 iter 23 233 iter 24 377 iter 25 610 iter 26 987 iter 27 1597 iter 28 2584 iter 29 4181 iter 30 6765 iter 31 10946 iter 32 17711 iter 33 28657 iter 34 46368 iter 35 75025 iter 36 121393 iter 37 196418 iter 38 317811 iter 39 514229 iter 40 832040 iter 41 1346269 iter 42 \n"
     ]
    }
   ],
   "source": [
    "fib3(100)"
   ]
  },
  {
   "cell_type": "markdown",
   "metadata": {},
   "source": [
    "## Palindromes\n",
    "\n",
    "```python\n",
    "          answer = s[0] == s[-1] and is_pal(s[1:-1])\n",
    "```\n",
    "\n"
   ]
  },
  {
   "cell_type": "code",
   "execution_count": 6,
   "metadata": {},
   "outputs": [
    {
     "name": "stdout",
     "output_type": "stream",
     "text": [
      "  is_pal called with billscarwash\n",
      "  About to return False for billscarwash\n",
      "False\n",
      "  is_pal called with tacocat\n",
      "  is_pal called with acoca\n",
      "  is_pal called with coc\n",
      "  is_pal called with o\n",
      "  About to return True from base case\n",
      "  About to return True for coc\n",
      "  About to return True for acoca\n",
      "  About to return True for tacocat\n",
      "True\n",
      "  is_pal called with dogood\n",
      "  is_pal called with ogoo\n",
      "  is_pal called with go\n",
      "  About to return False for go\n",
      "  About to return False for ogoo\n",
      "  About to return False for dogood\n",
      "False\n",
      "  is_pal called with racecar\n",
      "  is_pal called with aceca\n",
      "  is_pal called with cec\n",
      "  is_pal called with e\n",
      "  About to return True from base case\n",
      "  About to return True for cec\n",
      "  About to return True for aceca\n",
      "  About to return True for racecar\n",
      "True\n",
      "  is_pal called with madamimadam\n",
      "  is_pal called with adamimada\n",
      "  is_pal called with damimad\n",
      "  is_pal called with amima\n",
      "  is_pal called with mim\n",
      "  is_pal called with i\n",
      "  About to return True from base case\n",
      "  About to return True for mim\n",
      "  About to return True for amima\n",
      "  About to return True for damimad\n",
      "  About to return True for adamimada\n",
      "  About to return True for madamimadam\n",
      "True\n"
     ]
    }
   ],
   "source": [
    "def is_palindrome(s):\n",
    "   \"\"\"Assumes s is a str\n",
    "      Returns True if s is a palindrome; False otherwise.\n",
    "       Punctuation marks, blanks, and capitalization are ignored.\"\"\"\n",
    "   ALPHABET = 'abcdefghijklmnopqrstuvwxyz'\n",
    "   \n",
    "   def to_chars(s: str) -> str:\n",
    "      s = s.lower()\n",
    "      letters = ''\n",
    "      for c in s:\n",
    "        if c in ALPHABET:\n",
    "            letters = letters + c\n",
    "      return letters\n",
    "\n",
    "   def is_pal(s: str) -> bool:\n",
    "      print('  is_pal called with', s)\n",
    "      if len(s) <= 1:\n",
    "         print('  About to return True from base case')\n",
    "         return True\n",
    "      else:\n",
    "         answer = s[0] == s[-1] and is_pal(s[1:-1])\n",
    "         print('  About to return', answer, 'for', s)\n",
    "         return answer\n",
    "         \n",
    "   return is_pal(to_chars(s))\n",
    "\n",
    "print(is_palindrome('bills carwash'))\n",
    "print(is_palindrome('taco Cat'))\n",
    "print(is_palindrome('do good'))\n",
    "print(is_palindrome('racecar'))\n",
    "print(is_palindrome('madam im adam'))"
   ]
  },
  {
   "cell_type": "code",
   "execution_count": 2,
   "metadata": {},
   "outputs": [
    {
     "name": "stdout",
     "output_type": "stream",
     "text": [
      "(3, 'Jim')\n",
      "(2, 'Jack')\n",
      "(4, 'Jane')\n",
      "(1, 'Jill')\n",
      "[(2, 'Jack'), (4, 'Jane'), (1, 'Jill'), (3, 'Jim')]\n"
     ]
    }
   ],
   "source": [
    "people = {3: \"Jim\", 2: \"Jack\", 4: \"Jane\", 1: \"Jill\"}\n",
    "\n",
    "def value_getter(item):\n",
    "    print(item)\n",
    "    return item[1]\n",
    "\n",
    "print(sorted(people.items(), key=value_getter))"
   ]
  },
  {
   "cell_type": "code",
   "execution_count": 20,
   "metadata": {},
   "outputs": [
    {
     "name": "stdout",
     "output_type": "stream",
     "text": [
      "3.141592653589793\n"
     ]
    }
   ],
   "source": [
    "from math import *\n",
    "\n",
    "print(math.pi)"
   ]
  },
  {
   "cell_type": "code",
   "execution_count": 10,
   "metadata": {},
   "outputs": [
    {
     "name": "stdout",
     "output_type": "stream",
     "text": [
      "1 THis is a new day!THis is a new day!\n",
      "2 THis is a new day!"
     ]
    }
   ],
   "source": [
    "fn = 'myfile.txt'\n",
    "file = open(fn,'r', encoding='utf8')\n",
    "i = 0\n",
    "for line in file:\n",
    "    i+=1\n",
    "    print(i, line, end='')\n",
    "file.close()"
   ]
  }
 ],
 "metadata": {
  "kernelspec": {
   "display_name": "Python 3",
   "language": "python",
   "name": "python3"
  },
  "language_info": {
   "codemirror_mode": {
    "name": "ipython",
    "version": 3
   },
   "file_extension": ".py",
   "mimetype": "text/x-python",
   "name": "python",
   "nbconvert_exporter": "python",
   "pygments_lexer": "ipython3",
   "version": "3.10.9"
  }
 },
 "nbformat": 4,
 "nbformat_minor": 2
}
