{
 "cells": [
  {
   "cell_type": "code",
   "execution_count": null,
   "metadata": {},
   "outputs": [],
   "source": [
    "def encrypt_message(keys: dict message: str) -> str:\n",
    "\n",
    "    def generate_keys(book: str, message: str) -> dict:\n",
    "        keys = {}\n",
    "        for c in message:\n",
    "            if c not in keys:\n",
    "                keys[c] = book.find(c)\n",
    "        return keys\n",
    "    \n",
    "    my_keys = generate_keys(book, message)\n",
    "    cipher = ''.join([\"*\" + str my_keys[c] for c in message])[1:]\n"
   ]
  },
  {
   "cell_type": "code",
   "execution_count": null,
   "metadata": {},
   "outputs": [],
   "source": [
    "def dycrypt_message(keys: dict, message: str -> str:\n",
    "    \n",
    "    def generate_keys(book: str, cipher: str) -> dict:\n",
    "        for num in cipher. split(SEPARATOR):\n",
    "            keys[num] = book[int(num)]\n",
    "        return keys \n",
    "    my_keys = generate_keys(book, chipher)\n",
    "    return ''.join([my_keys[num] for num in cipher.split(SEPARATOR)])"
   ]
  },
  {
   "cell_type": "code",
   "execution_count": null,
   "metadata": {},
   "outputs": [],
   "source": []
  }
 ],
 "metadata": {
  "language_info": {
   "name": "python"
  },
  "orig_nbformat": 4
 },
 "nbformat": 4,
 "nbformat_minor": 2
}
