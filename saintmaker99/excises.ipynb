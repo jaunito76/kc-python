{
 "cells": [
  {
   "cell_type": "code",
   "execution_count": null,
   "metadata": {},
   "outputs": [],
   "source": [
    "print('Daniel '*25000)\n",
    "print('Michael '*21874)\n",
    "print('John '*35000)"
   ]
  },
  {
   "cell_type": "code",
   "execution_count": null,
   "metadata": {},
   "outputs": [],
   "source": [
    "epsilon=0.01\n",
    "k=float(input('Enter a float or int for a square root please:'))\n",
    "guess=k/2\n",
    "while abs(guess**2-k)>=epsilon:\n",
    "    guess=guess-(((guess**2)-k)/(2*guess))\n",
    "print('square root of', k, 'is about', guess)"
   ]
  },
  {
   "cell_type": "code",
   "execution_count": null,
   "metadata": {},
   "outputs": [],
   "source": [
    "h=float(input('enter a number to put it to the power of:'))\n",
    "def squared(x):\n",
    "    return x**h\n",
    "k=float(input('Enter a float or int a number:'))\n",
    "squared(int(k))  "
   ]
  },
  {
   "cell_type": "code",
   "execution_count": null,
   "metadata": {},
   "outputs": [],
   "source": [
    "def area_based_on_radius(x):\n",
    "    return ((x**2)*3.141592)\n",
    "b=float(input('enter the radius of a circle and I will give you the area, oh great master:'))\n",
    "b=area_based_on_radius(b)\n",
    "print(b,'this is roughly the area of your circle, however it goes on forever so I shortened it')    "
   ]
  },
  {
   "cell_type": "code",
   "execution_count": null,
   "metadata": {},
   "outputs": [],
   "source": [
    "def mult(x):\n",
    "    x=0\n",
    "    h=0\n",
    "    h=float(input('one or two?:'))\n",
    "    if h==float(1):\n",
    "        f=float(input('enter a nummber to print:'))\n",
    "        print(f)\n",
    "    elif h==float(2):\n",
    "        f=float(input('Enter a number to add:'))\n",
    "        z=float(input('Enter a number to add:'))\n",
    "        print(f+z)\n",
    "    else:\n",
    "        print ('invalid')\n",
    "x=0\n",
    "mult(x)"
   ]
  },
  {
   "cell_type": "code",
   "execution_count": null,
   "metadata": {},
   "outputs": [],
   "source": [
    "def mult(f,z=1):\n",
    "    return f*z\n",
    "#f=float(input('enter a number'))\n",
    "#z=float(input('enter number 2''(press 1 for none)'))\n",
    "mult(5,6)\n",
    "print(mult(5,6))\n",
    "mult(8,5)"
   ]
  },
  {
   "cell_type": "code",
   "execution_count": null,
   "metadata": {},
   "outputs": [],
   "source": [
    "x=0\n",
    "f=float(input('Enter a number to add:'))\n",
    "while (x*x)<f:\n",
    "        x=x + 0.001\n",
    "        print(x)"
   ]
  },
  {
   "cell_type": "code",
   "execution_count": null,
   "metadata": {},
   "outputs": [],
   "source": [
    "L1=[2]\n",
    "L2=[L1, L1]\n",
    "L3=L2\n",
    "L2.append([3])\n",
    "print(L2)\n",
    "print(L3)"
   ]
  },
  {
   "cell_type": "code",
   "execution_count": 6,
   "metadata": {},
   "outputs": [
    {
     "ename": "KeyboardInterrupt",
     "evalue": "",
     "output_type": "error",
     "traceback": [
      "\u001b[1;31m---------------------------------------------------------------------------\u001b[0m",
      "\u001b[1;31mKeyboardInterrupt\u001b[0m                         Traceback (most recent call last)",
      "\u001b[1;32mc:\\Users\\danie\\OneDrive\\School\\2023-2024\\04 Daniel\\coding\\kc-python23-1\\saintmaker99\\excises.ipynb Cell 9\u001b[0m line \u001b[0;36m1\n\u001b[1;32m----> <a href='vscode-notebook-cell:/c%3A/Users/danie/OneDrive/School/2023-2024/04%20Daniel/coding/kc-python23-1/saintmaker99/excises.ipynb#X11sZmlsZQ%3D%3D?line=0'>1</a>\u001b[0m [x \u001b[39mfor\u001b[39;00m x \u001b[39min\u001b[39;00m \u001b[39mrange\u001b[39m(\u001b[39m100000000000\u001b[39m)]\n",
      "\u001b[1;32mc:\\Users\\danie\\OneDrive\\School\\2023-2024\\04 Daniel\\coding\\kc-python23-1\\saintmaker99\\excises.ipynb Cell 9\u001b[0m line \u001b[0;36m1\n\u001b[1;32m----> <a href='vscode-notebook-cell:/c%3A/Users/danie/OneDrive/School/2023-2024/04%20Daniel/coding/kc-python23-1/saintmaker99/excises.ipynb#X11sZmlsZQ%3D%3D?line=0'>1</a>\u001b[0m [x \u001b[39mfor\u001b[39;00m x \u001b[39min\u001b[39;00m \u001b[39mrange\u001b[39m(\u001b[39m100000000000\u001b[39m)]\n",
      "\u001b[1;31mKeyboardInterrupt\u001b[0m: "
     ]
    }
   ],
   "source": [
    "[x for x in range(100000000000)]"
   ]
  },
  {
   "cell_type": "code",
   "execution_count": 1,
   "metadata": {},
   "outputs": [
    {
     "data": {
      "text/plain": [
       "[2,\n",
       " 3,\n",
       " 4,\n",
       " 5,\n",
       " 7,\n",
       " 11,\n",
       " 13,\n",
       " 17,\n",
       " 19,\n",
       " 23,\n",
       " 29,\n",
       " 31,\n",
       " 37,\n",
       " 41,\n",
       " 43,\n",
       " 47,\n",
       " 53,\n",
       " 59,\n",
       " 61,\n",
       " 67,\n",
       " 71,\n",
       " 73,\n",
       " 79,\n",
       " 83,\n",
       " 89,\n",
       " 97]"
      ]
     },
     "execution_count": 1,
     "metadata": {},
     "output_type": "execute_result"
    }
   ],
   "source": [
    "[x for x in range(2, 100) if all(x%y != 0 for y in range (3,x))]"
   ]
  }
 ],
 "metadata": {
  "kernelspec": {
   "display_name": "base",
   "language": "python",
   "name": "python3"
  },
  "language_info": {
   "codemirror_mode": {
    "name": "ipython",
    "version": 3
   },
   "file_extension": ".py",
   "mimetype": "text/x-python",
   "name": "python",
   "nbconvert_exporter": "python",
   "pygments_lexer": "ipython3",
   "version": "3.11.4"
  },
  "orig_nbformat": 4
 },
 "nbformat": 4,
 "nbformat_minor": 2
}
