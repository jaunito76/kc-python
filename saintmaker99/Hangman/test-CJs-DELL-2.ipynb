{
 "cells": [
  {
   "cell_type": "code",
   "execution_count": 84,
   "metadata": {},
   "outputs": [],
   "source": [
    "def isWordGuessed(secretWord, lettersGuessed):\n",
    "    '''\n",
    "    secretWord: string, the word the user is guessing\n",
    "    lettersGuessed: list, what letters have been guessed so far\n",
    "    returns: boolean, True if all the letters of secretWord are in lettersGuessed;\n",
    "      False otherwise\n",
    "    '''\n",
    "    # FILL IN YOUR CODE HERE...\n",
    "    # for each letter in secretword \n",
    "    #   if letter is in LG \n",
    "    #     set to true\n",
    "    #   else\n",
    "    #     false\n",
    "    googabooga=True\n",
    "    for letter in secretWord:\n",
    "        if not letter in lettersGuessed:\n",
    "            googabooga=False\n",
    "    return googabooga\n",
    "    "
   ]
  },
  {
   "cell_type": "code",
   "execution_count": 85,
   "metadata": {},
   "outputs": [],
   "source": [
    "def getGuessedWord(secretWord, lettersGuessed):\n",
    "    '''\n",
    "    secretWord: string, the word the user is guessing\n",
    "    lettersGuessed: list, what letters have been guessed so far\n",
    "    returns: string, comprised of letters and underscores that represents\n",
    "      what letters in secretWord have been guessed so far.\n",
    "    '''\n",
    "    # FILL IN YOUR CODE HERE...\n",
    "    # loop through secret word \n",
    "    # get each letter looped through sw\n",
    "    #if l is in lg restore letter\n",
    "    # store letter in output string\n",
    "    # else store underscore and space  \n",
    "    boogabooga=''\n",
    "    for letter in secretWord:\n",
    "        if letter not in lettersGuessed:\n",
    "            boogabooga=boogabooga+'_ '\n",
    "        else: \n",
    "            boogabooga=boogabooga+(letter+' ')\n",
    "    return boogabooga"
   ]
  },
  {
   "cell_type": "code",
   "execution_count": 86,
   "metadata": {},
   "outputs": [],
   "source": [
    "def getAvailableLetters(lettersGuessed):\n",
    "    '''\n",
    "    lettersGuessed: list, what letters have been guessed so far\n",
    "    returns: string, comprised of letters that represents what letters have not\n",
    "      yet been guessed.\n",
    "    '''\n",
    "    # FILL IN YOUR CODE HERE...\n",
    "    \n",
    "    oogabooga = 'a b c d e f g h i j k l m n o p q r s t u v w x y z'\n",
    "    for letter in lettersGuessed:\n",
    "        if letter in oogabooga:\n",
    "            oogabooga= oogabooga.replace(letter,'_')\n",
    "    return oogabooga \n"
   ]
  },
  {
   "cell_type": "code",
   "execution_count": 87,
   "metadata": {},
   "outputs": [
    {
     "data": {
      "text/plain": [
       "False"
      ]
     },
     "execution_count": 87,
     "metadata": {},
     "output_type": "execute_result"
    }
   ],
   "source": [
    "isWordGuessed(\"apple \", ['a', 'e', 'p', 'l','q'])"
   ]
  },
  {
   "cell_type": "code",
   "execution_count": 88,
   "metadata": {},
   "outputs": [
    {
     "data": {
      "text/plain": [
       "'a p p l _ '"
      ]
     },
     "execution_count": 88,
     "metadata": {},
     "output_type": "execute_result"
    }
   ],
   "source": [
    "getGuessedWord('apple', ['a','p','r','s','t','l','n','x','o',] )"
   ]
  },
  {
   "cell_type": "code",
   "execution_count": 89,
   "metadata": {},
   "outputs": [
    {
     "data": {
      "text/plain": [
       "'a b c d e f g h i j k l m n o p q r s t _ v w x y z'"
      ]
     },
     "execution_count": 89,
     "metadata": {},
     "output_type": "execute_result"
    }
   ],
   "source": [
    "getAvailableLetters(['u'])"
   ]
  },
  {
   "cell_type": "code",
   "execution_count": 1,
   "metadata": {},
   "outputs": [],
   "source": [
    "def hangman(secretWord):\n",
    "    '''\n",
    "    secretWord: string, the secret word to guess.\n",
    "\n",
    "    Starts up an interactive game of Hangman.\n",
    "\n",
    "    * At the start of the game, let the user know how many \n",
    "      letters the secretWord contains.\n",
    "\n",
    "    * Ask the user to supply one guess (i.e. letter) per round.\n",
    "\n",
    "    * The user should receive feedback immediately after each guess \n",
    "      about whether their guess appears in the computers word.\n",
    "\n",
    "    * After each round, you should also display to the user the \n",
    "      partially guessed word so far, as well as letters that the \n",
    "      user has not yet guessed.\n",
    "\n",
    "    Follows the other limitations detailed in the problem write-up.\n",
    "    '''\n",
    "    # FILL IN YOUR CODE HERE...\n",
    "    hml=len(secretWord)\n",
    "    print('there are',hml, 'letters in this word')\n",
    "    nog=7\n",
    "    lettersguessed=''\n",
    "    while nog>0 and isWordGuessed(secretWord, lettersguessed):\n",
    "      isWordGuessed(secretWord, lettersguessed)"
   ]
  },
  {
   "cell_type": "code",
   "execution_count": 3,
   "metadata": {},
   "outputs": [
    {
     "name": "stdout",
     "output_type": "stream",
     "text": [
      "there are  10 letters in this word\n"
     ]
    }
   ],
   "source": [
    "secretword='secretword'\n",
    "\n",
    "hangman(secretword)"
   ]
  }
 ],
 "metadata": {
  "kernelspec": {
   "display_name": "base",
   "language": "python",
   "name": "python3"
  },
  "language_info": {
   "codemirror_mode": {
    "name": "ipython",
    "version": 3
   },
   "file_extension": ".py",
   "mimetype": "text/x-python",
   "name": "python",
   "nbconvert_exporter": "python",
   "pygments_lexer": "ipython3",
   "version": "3.11.4"
  },
  "orig_nbformat": 4
 },
 "nbformat": 4,
 "nbformat_minor": 2
}
