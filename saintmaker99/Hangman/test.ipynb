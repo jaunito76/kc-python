{
 "cells": [
  {
   "cell_type": "code",
   "execution_count": 2,
   "metadata": {},
   "outputs": [],
   "source": [
    "def isWordGuessed(secretWord, lettersGuessed):\n",
    "    '''\n",
    "    secretWord: string, the word the user is guessing\n",
    "    lettersGuessed: list, what letters have been guessed so far\n",
    "    returns: boolean, True if all the letters of secretWord are in lettersGuessed;\n",
    "      False otherwise\n",
    "    '''\n",
    "    # FILL IN YOUR CODE HERE...\n",
    "    # for each letter in secretword \n",
    "    #   if letter is in LG \n",
    "    #     set to true\n",
    "    #   else\n",
    "    #     false\n",
    "    googabooga=True\n",
    "    for letter in secretWord:\n",
    "        if not letter in lettersGuessed:\n",
    "            googabooga=False\n",
    "    return googabooga\n",
    "    "
   ]
  },
  {
   "cell_type": "code",
   "execution_count": 3,
   "metadata": {},
   "outputs": [],
   "source": [
    "def getGuessedWord(secretWord, lettersGuessed):\n",
    "    '''\n",
    "    secretWord: string, the word the user is guessing\n",
    "    lettersGuessed: list, what letters have been guessed so far\n",
    "    returns: string, comprised of letters and underscores that represents\n",
    "      what letters in secretWord have been guessed so far.\n",
    "    '''\n",
    "    # FILL IN YOUR CODE HERE...\n",
    "    # loop through secret word \n",
    "    # get each letter looped through sw\n",
    "    #if l is in lg restore letter\n",
    "    # store letter in output string\n",
    "    # else store underscore and space  \n",
    "    boogabooga=''\n",
    "    \n",
    "    for letter in secretWord:\n",
    "        if letter not in lettersGuessed:\n",
    "            boogabooga=boogabooga+'_ '\n",
    "        else: \n",
    "            boogabooga=boogabooga+(letter+' ')\n",
    "    return boogabooga\n",
    "    return nog\n",
    "    print(boogabooga)"
   ]
  },
  {
   "cell_type": "code",
   "execution_count": 4,
   "metadata": {},
   "outputs": [],
   "source": [
    "def getAvailableLetters(lettersGuessed):\n",
    "    '''\n",
    "    lettersGuessed: list, what letters have been guessed so far\n",
    "    returns: string, comprised of letters that represents what letters have not\n",
    "      yet been guessed.\n",
    "    '''\n",
    "    # FILL IN YOUR CODE HERE...\n",
    "    \n",
    "    oogabooga = 'a b c d e f g h i j k l m n o p q r s t u v w x y z'\n",
    "    for letter in lettersGuessed:\n",
    "        if letter in oogabooga:\n",
    "            oogabooga= oogabooga.replace(letter,'_')\n",
    "    return oogabooga\n",
    "    print(oogabooga) \n"
   ]
  },
  {
   "cell_type": "code",
   "execution_count": 5,
   "metadata": {},
   "outputs": [],
   "source": [
    "def hangman(secretWord):\n",
    "    '''\n",
    "    secretWord: string, the secret word to guess.\n",
    "\n",
    "    Starts up an interactive game of Hangman.\n",
    "\n",
    "    * At the start of the game, let the user know how many \n",
    "      letters the secretWord contains.\n",
    "\n",
    "    * Ask the user to supply one guess (i.e. letter) per round.\n",
    "\n",
    "    * The user should receive feedback immediately after each guess \n",
    "      about whether their guess appears in the computers word.\n",
    "\n",
    "    * After each round, you should also display to the user the \n",
    "      partially guessed word so far, as well as letters that the \n",
    "      user has not yet guessed.\n",
    "\n",
    "    Follows the other limitations detailed in the problem write-up.\n",
    "    '''\n",
    "    # FILL IN YOUR CODE HERE...\n",
    "    yn='n'\n",
    "    while yn=='n':\n",
    "      print('Hello, would you like to play a game of hangman with me y/n')\n",
    "      yn=input('y/n')\n",
    "    hml=len(secretWord)\n",
    "    print('there are',hml, 'letters in this word')\n",
    "    nog=7\n",
    "    lng=0\n",
    "    lettersguessed=''\n",
    "    while nog>0 and not isWordGuessed(secretWord, lettersguessed):\n",
    "      ta=input('enter a letter')\n",
    "      if ta in lettersguessed:\n",
    "        print('oops, it looks like you already entered that letter, try again')\n",
    "      else:\n",
    "        lettersguessed=lettersguessed+ta    \n",
    "      nog=(nognog(secretWord, lettersguessed))\n",
    "      if isWordGuessed(secretWord, lettersguessed)==True:\n",
    "        print('YOU WIN!!!. your word was', secretWord)\n",
    "      elif nog==0:\n",
    "        print('out of guesses, oh well better luck next time.')\n",
    "      elif lng>len(lettersguessed):\n",
    "        lng=lng-1\n",
    "        print('oops, you already guessed that, try again')\n",
    "      else:\n",
    "         print('try again, your word so far is', getGuessedWord(secretWord, lettersguessed), 'here are the letters left to use',getAvailableLetters(lettersguessed), 'and you have',nog,'guesses left')\n",
    "        "
   ]
  },
  {
   "cell_type": "code",
   "execution_count": 6,
   "metadata": {},
   "outputs": [
    {
     "data": {
      "text/plain": [
       "False"
      ]
     },
     "execution_count": 6,
     "metadata": {},
     "output_type": "execute_result"
    }
   ],
   "source": [
    "isWordGuessed(\"apple \", ['a', 'e', 'p', 'l','q'])"
   ]
  },
  {
   "cell_type": "code",
   "execution_count": 7,
   "metadata": {},
   "outputs": [
    {
     "data": {
      "text/plain": [
       "'a p p _ _ '"
      ]
     },
     "execution_count": 7,
     "metadata": {},
     "output_type": "execute_result"
    }
   ],
   "source": [
    "getGuessedWord('apple', ['a','p','r','s','t','x','o',] )"
   ]
  },
  {
   "cell_type": "code",
   "execution_count": 8,
   "metadata": {},
   "outputs": [
    {
     "data": {
      "text/plain": [
       "'_'"
      ]
     },
     "execution_count": 8,
     "metadata": {},
     "output_type": "execute_result"
    }
   ],
   "source": [
    "getAvailableLetters(['a b c d e f g h i j k l m n o p q r s t u v w x y z'])"
   ]
  },
  {
   "cell_type": "code",
   "execution_count": 9,
   "metadata": {},
   "outputs": [],
   "source": [
    "def nognog(secretword, lettersGuessed):\n",
    "    nog=8\n",
    "    for letter in lettersGuessed:\n",
    "        if letter not in secretword:\n",
    "            nog=nog-1\n",
    "    return nog"
   ]
  },
  {
   "cell_type": "code",
   "execution_count": null,
   "metadata": {},
   "outputs": [],
   "source": []
  },
  {
   "cell_type": "code",
   "execution_count": null,
   "metadata": {},
   "outputs": [],
   "source": []
  },
  {
   "cell_type": "code",
   "execution_count": 10,
   "metadata": {},
   "outputs": [
    {
     "name": "stdout",
     "output_type": "stream",
     "text": [
      "Hello, would you like to play a game of hangman with me y/n\n",
      "there are 26 letters in this word\n",
      "oops, it looks like you already entered that letter, try again\n",
      "try again, your word so far is _ _ _ _ _ _ _ _ _ _ _ _ _ _ _ _ _ _ _ _ _ _ _ _ _ _  here are the letters left to use a b c d e f g h i j k l m n o p q r s t u v w x y z and you have 8 guesses left\n"
     ]
    },
    {
     "ename": "KeyboardInterrupt",
     "evalue": "Interrupted by user",
     "output_type": "error",
     "traceback": [
      "\u001b[1;31m---------------------------------------------------------------------------\u001b[0m",
      "\u001b[1;31mKeyboardInterrupt\u001b[0m                         Traceback (most recent call last)",
      "\u001b[1;32mc:\\Users\\danie\\OneDrive\\School\\2023-2024\\01 Dad\\01 Computer Science\\kc-python23\\kc-python23\\saintmaker99\\Hangman\\test.ipynb Cell 11\u001b[0m line \u001b[0;36m3\n\u001b[0;32m      <a href='vscode-notebook-cell:/c%3A/Users/danie/OneDrive/School/2023-2024/01%20Dad/01%20Computer%20Science/kc-python23/kc-python23/saintmaker99/Hangman/test.ipynb#X13sZmlsZQ%3D%3D?line=0'>1</a>\u001b[0m secretword\u001b[39m=\u001b[39m\u001b[39m'\u001b[39m\u001b[39mabcdefghijklmnopqrstuvwxyz\u001b[39m\u001b[39m'\u001b[39m\n\u001b[1;32m----> <a href='vscode-notebook-cell:/c%3A/Users/danie/OneDrive/School/2023-2024/01%20Dad/01%20Computer%20Science/kc-python23/kc-python23/saintmaker99/Hangman/test.ipynb#X13sZmlsZQ%3D%3D?line=2'>3</a>\u001b[0m hangman(secretword)\n",
      "\u001b[1;32mc:\\Users\\danie\\OneDrive\\School\\2023-2024\\01 Dad\\01 Computer Science\\kc-python23\\kc-python23\\saintmaker99\\Hangman\\test.ipynb Cell 11\u001b[0m line \u001b[0;36m3\n\u001b[0;32m     <a href='vscode-notebook-cell:/c%3A/Users/danie/OneDrive/School/2023-2024/01%20Dad/01%20Computer%20Science/kc-python23/kc-python23/saintmaker99/Hangman/test.ipynb#X13sZmlsZQ%3D%3D?line=29'>30</a>\u001b[0m lettersguessed\u001b[39m=\u001b[39m\u001b[39m'\u001b[39m\u001b[39m'\u001b[39m\n\u001b[0;32m     <a href='vscode-notebook-cell:/c%3A/Users/danie/OneDrive/School/2023-2024/01%20Dad/01%20Computer%20Science/kc-python23/kc-python23/saintmaker99/Hangman/test.ipynb#X13sZmlsZQ%3D%3D?line=30'>31</a>\u001b[0m \u001b[39mwhile\u001b[39;00m nog\u001b[39m>\u001b[39m\u001b[39m0\u001b[39m \u001b[39mand\u001b[39;00m \u001b[39mnot\u001b[39;00m isWordGuessed(secretWord, lettersguessed):\n\u001b[1;32m---> <a href='vscode-notebook-cell:/c%3A/Users/danie/OneDrive/School/2023-2024/01%20Dad/01%20Computer%20Science/kc-python23/kc-python23/saintmaker99/Hangman/test.ipynb#X13sZmlsZQ%3D%3D?line=31'>32</a>\u001b[0m   ta\u001b[39m=\u001b[39m\u001b[39minput\u001b[39m(\u001b[39m'\u001b[39m\u001b[39menter a letter\u001b[39m\u001b[39m'\u001b[39m)\n\u001b[0;32m     <a href='vscode-notebook-cell:/c%3A/Users/danie/OneDrive/School/2023-2024/01%20Dad/01%20Computer%20Science/kc-python23/kc-python23/saintmaker99/Hangman/test.ipynb#X13sZmlsZQ%3D%3D?line=32'>33</a>\u001b[0m   \u001b[39mif\u001b[39;00m ta \u001b[39min\u001b[39;00m lettersguessed:\n\u001b[0;32m     <a href='vscode-notebook-cell:/c%3A/Users/danie/OneDrive/School/2023-2024/01%20Dad/01%20Computer%20Science/kc-python23/kc-python23/saintmaker99/Hangman/test.ipynb#X13sZmlsZQ%3D%3D?line=33'>34</a>\u001b[0m     \u001b[39mprint\u001b[39m(\u001b[39m'\u001b[39m\u001b[39moops, it looks like you already entered that letter, try again\u001b[39m\u001b[39m'\u001b[39m)\n",
      "File \u001b[1;32mc:\\ProgramData\\anaconda3\\Lib\\site-packages\\ipykernel\\kernelbase.py:1175\u001b[0m, in \u001b[0;36mKernel.raw_input\u001b[1;34m(self, prompt)\u001b[0m\n\u001b[0;32m   1171\u001b[0m \u001b[39mif\u001b[39;00m \u001b[39mnot\u001b[39;00m \u001b[39mself\u001b[39m\u001b[39m.\u001b[39m_allow_stdin:\n\u001b[0;32m   1172\u001b[0m     \u001b[39mraise\u001b[39;00m StdinNotImplementedError(\n\u001b[0;32m   1173\u001b[0m         \u001b[39m\"\u001b[39m\u001b[39mraw_input was called, but this frontend does not support input requests.\u001b[39m\u001b[39m\"\u001b[39m\n\u001b[0;32m   1174\u001b[0m     )\n\u001b[1;32m-> 1175\u001b[0m \u001b[39mreturn\u001b[39;00m \u001b[39mself\u001b[39m\u001b[39m.\u001b[39m_input_request(\n\u001b[0;32m   1176\u001b[0m     \u001b[39mstr\u001b[39m(prompt),\n\u001b[0;32m   1177\u001b[0m     \u001b[39mself\u001b[39m\u001b[39m.\u001b[39m_parent_ident[\u001b[39m\"\u001b[39m\u001b[39mshell\u001b[39m\u001b[39m\"\u001b[39m],\n\u001b[0;32m   1178\u001b[0m     \u001b[39mself\u001b[39m\u001b[39m.\u001b[39mget_parent(\u001b[39m\"\u001b[39m\u001b[39mshell\u001b[39m\u001b[39m\"\u001b[39m),\n\u001b[0;32m   1179\u001b[0m     password\u001b[39m=\u001b[39m\u001b[39mFalse\u001b[39;00m,\n\u001b[0;32m   1180\u001b[0m )\n",
      "File \u001b[1;32mc:\\ProgramData\\anaconda3\\Lib\\site-packages\\ipykernel\\kernelbase.py:1217\u001b[0m, in \u001b[0;36mKernel._input_request\u001b[1;34m(self, prompt, ident, parent, password)\u001b[0m\n\u001b[0;32m   1214\u001b[0m             \u001b[39mbreak\u001b[39;00m\n\u001b[0;32m   1215\u001b[0m \u001b[39mexcept\u001b[39;00m \u001b[39mKeyboardInterrupt\u001b[39;00m:\n\u001b[0;32m   1216\u001b[0m     \u001b[39m# re-raise KeyboardInterrupt, to truncate traceback\u001b[39;00m\n\u001b[1;32m-> 1217\u001b[0m     \u001b[39mraise\u001b[39;00m \u001b[39mKeyboardInterrupt\u001b[39;00m(\u001b[39m\"\u001b[39m\u001b[39mInterrupted by user\u001b[39m\u001b[39m\"\u001b[39m) \u001b[39mfrom\u001b[39;00m \u001b[39mNone\u001b[39;00m\n\u001b[0;32m   1218\u001b[0m \u001b[39mexcept\u001b[39;00m \u001b[39mException\u001b[39;00m:\n\u001b[0;32m   1219\u001b[0m     \u001b[39mself\u001b[39m\u001b[39m.\u001b[39mlog\u001b[39m.\u001b[39mwarning(\u001b[39m\"\u001b[39m\u001b[39mInvalid Message:\u001b[39m\u001b[39m\"\u001b[39m, exc_info\u001b[39m=\u001b[39m\u001b[39mTrue\u001b[39;00m)\n",
      "\u001b[1;31mKeyboardInterrupt\u001b[0m: Interrupted by user"
     ]
    }
   ],
   "source": [
    "secretword='abcdefghijklmnopqrstuvwxyz'\n",
    "\n",
    "hangman(secretword)"
   ]
  },
  {
   "cell_type": "code",
   "execution_count": 11,
   "metadata": {},
   "outputs": [
    {
     "ename": "SyntaxError",
     "evalue": "invalid syntax (675667347.py, line 2)",
     "output_type": "error",
     "traceback": [
      "\u001b[1;36m  Cell \u001b[1;32mIn[11], line 2\u001b[1;36m\u001b[0m\n\u001b[1;33m    def\u001b[0m\n\u001b[1;37m        ^\u001b[0m\n\u001b[1;31mSyntaxError\u001b[0m\u001b[1;31m:\u001b[0m invalid syntax\n"
     ]
    }
   ],
   "source": [
    "L=[1,2,3,4,5]\n",
    "def "
   ]
  },
  {
   "cell_type": "code",
   "execution_count": 12,
   "metadata": {},
   "outputs": [
    {
     "name": "stdout",
     "output_type": "stream",
     "text": [
      "['She', 'loves', 'you', 'yeah', 'yeah', 'yeah', 'She', 'loves', 'you', 'yeah', 'yeah', 'yeah', 'She', 'loves', 'you', 'yeah', 'yeah', 'yeah', 'yeah', 'You', 'think', \"you've\", 'lost', 'your', 'love', 'Well', 'I', 'saw', 'her', 'yesterday', \"It's\", 'you', \"she's\", \"thinkin'\", 'of', 'And', 'she', 'told', 'me', 'what', 'to', 'say', 'She', 'says', 'she', 'loves', 'you', 'And', 'you', 'know', 'that', \"can't\", 'be', 'bad', 'Yes', 'she', 'loves', 'you', 'And', 'you', 'know', 'you', 'should', 'be', 'glad', 'She', 'said', 'you', 'hurt', 'her', 'so', 'She', 'almost', 'lost', 'her', 'mind', 'But', 'now', 'she', 'says', 'she', 'knows', \"You're\", 'not', 'the', \"hurtin'\", 'kind', 'She', 'says', 'she', 'loves', 'you', 'And', 'you', 'know', 'that', \"can't\", 'be', 'bad', 'Yes', 'she', 'loves', 'you', 'And', 'you', 'know', 'you', 'should', 'be', 'glad', 'ooh', 'She', 'loves', 'you', 'yeah', 'yeah', 'yeah', 'She', 'loves', 'you', 'yeah', 'yeah', 'yeah', 'With', 'a', 'love', 'like', 'that', 'You', 'know', 'you', 'should', 'be', 'glad', 'You', 'know', \"it's\", 'up', 'to', 'you', 'I', 'think', \"it's\", 'only', 'fair', 'Pride', 'can', 'hurt', 'you', 'too', 'Apologize', 'to', 'her', 'Because', 'she', 'loves', 'you', 'And', 'you', 'know', 'that', \"can't\", 'be', 'bad', 'Yes', 'she', 'loves', 'you', 'And', 'you', 'know', 'you', 'should', 'be', 'glad', 'ooh', 'She', 'loves', 'you', 'yeah', 'yeah', 'yeah', 'She', 'loves', 'you', 'yeah', 'yeah', 'yeah', 'With', 'a', 'love', 'like', 'that', 'You', 'know', 'you', 'should', 'be', 'glad', 'With', 'a', 'love', 'like', 'that', 'You', 'know', 'you', 'should', 'be', 'glad', 'With', 'a', 'love', 'like', 'that', 'You', 'know', 'you', 'should', 'be', 'glad', 'Yeah', 'yeah', 'yeah', 'Yeah', 'yeah', 'yeah', 'yeah']\n",
      "{'She': 11, 'loves': 13, 'you': 30, 'yeah': 27, 'You': 6, 'think': 2, \"you've\": 1, 'lost': 2, 'your': 1, 'love': 5, 'Well': 1, 'I': 2, 'saw': 1, 'her': 4, 'yesterday': 1, \"It's\": 1, \"she's\": 1, \"thinkin'\": 1, 'of': 1, 'And': 7, 'she': 9, 'told': 1, 'me': 1, 'what': 1, 'to': 3, 'say': 1, 'says': 3, 'know': 11, 'that': 7, \"can't\": 3, 'be': 10, 'bad': 3, 'Yes': 3, 'should': 7, 'glad': 7, 'said': 1, 'hurt': 2, 'so': 1, 'almost': 1, 'mind': 1, 'But': 1, 'now': 1, 'knows': 1, \"You're\": 1, 'not': 1, 'the': 1, \"hurtin'\": 1, 'kind': 1, 'ooh': 2, 'With': 4, 'a': 4, 'like': 4, \"it's\": 2, 'up': 1, 'only': 1, 'fair': 1, 'Pride': 1, 'can': 1, 'too': 1, 'Apologize': 1, 'Because': 1, 'Yeah': 2}\n",
      "{'S': 11, 'h': 82, 'e': 100, ' ': 187, 'l': 44, 'o': 96, 'v': 19, 's': 53, 'y': 66, 'u': 52, 'a': 65, '\\n': 40, 'Y': 12, 't': 43, 'i': 21, 'n': 33, 'k': 20, \"'\": 11, 'r': 12, 'W': 5, 'I': 3, 'w': 15, 'd': 30, 'f': 2, 'A': 8, 'm': 3, 'c': 5, 'b': 13, 'g': 8, 'B': 2, 'p': 2, 'P': 1, 'z': 1}\n"
     ]
    }
   ],
   "source": [
    "def lyrics_to_frequencies(lyrics):\n",
    "    myDict = {}\n",
    "    for word in lyrics:\n",
    "        if word in myDict:\n",
    "            myDict[word] += 1\n",
    "        else:\n",
    "            myDict[word] = 1\n",
    "    return myDict\n",
    "lyrics_string = \"\"\"She loves you, yeah, yeah, yeah\n",
    "She loves you, yeah, yeah, yeah\n",
    "She loves you, yeah, yeah, yeah, yeah\n",
    "You think you've lost your love\n",
    "Well, I saw her yesterday\n",
    "It's you she's thinkin' of\n",
    "And she told me what to say\n",
    "She says she loves you\n",
    "And you know that can't be bad\n",
    "Yes, she loves you\n",
    "And you know you should be glad\n",
    "She said you hurt her so\n",
    "She almost lost her mind\n",
    "But now she says she knows\n",
    "You're not the hurtin' kind\n",
    "She says she loves you\n",
    "And you know that can't be bad\n",
    "Yes, she loves you\n",
    "And you know you should be glad, ooh\n",
    "She loves you, yeah, yeah, yeah\n",
    "She loves you, yeah, yeah, yeah\n",
    "With a love like that\n",
    "You know you should be glad\n",
    "You know it's up to you\n",
    "I think it's only fair\n",
    "Pride can hurt you, too\n",
    "Apologize to her\n",
    "Because she loves you\n",
    "And you know that can't be bad\n",
    "Yes, she loves you\n",
    "And you know you should be glad, ooh\n",
    "She loves you, yeah, yeah, yeah\n",
    "She loves you, yeah, yeah, yeah\n",
    "With a love like that\n",
    "You know you should be glad\n",
    "With a love like that\n",
    "You know you should be glad\n",
    "With a love like that\n",
    "You know you should be glad\n",
    "Yeah, yeah, yeah\n",
    "Yeah, yeah, yeah, yeah\"\"\"\n",
    "lyrics_string = lyrics_string.replace(',','')\n",
    "lyrics = lyrics_string.split()\n",
    "print(lyrics)\n",
    "print(lyrics_to_frequencies(lyrics))\n",
    "print(lyrics_to_frequencies(lyrics_string))"
   ]
  },
  {
   "cell_type": "code",
   "execution_count": null,
   "metadata": {},
   "outputs": [],
   "source": [
    "def get_list_from_file(file_name: str) -> list:\n",
    "    mylist = []\n",
    "    with open(file_name, 'r', encoding='utf8') as file:\n",
    "        for line in file:\n",
    "            mylist += line.split()\n",
    "    return mylist"
   ]
  }
 ],
 "metadata": {
  "kernelspec": {
   "display_name": "base",
   "language": "python",
   "name": "python3"
  },
  "language_info": {
   "codemirror_mode": {
    "name": "ipython",
    "version": 3
   },
   "file_extension": ".py",
   "mimetype": "text/x-python",
   "name": "python",
   "nbconvert_exporter": "python",
   "pygments_lexer": "ipython3",
   "version": "3.11.4"
  },
  "orig_nbformat": 4
 },
 "nbformat": 4,
 "nbformat_minor": 2
}
