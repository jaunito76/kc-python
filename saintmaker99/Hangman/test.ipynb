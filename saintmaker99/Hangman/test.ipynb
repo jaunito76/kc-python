{
 "cells": [
  {
   "cell_type": "code",
   "execution_count": 11,
   "metadata": {},
   "outputs": [],
   "source": [
    "def isWordGuessed(secretWord, lettersGuessed):\n",
    "    '''\n",
    "    secretWord: string, the word the user is guessing\n",
    "    lettersGuessed: list, what letters have been guessed so far\n",
    "    returns: boolean, True if all the letters of secretWord are in lettersGuessed;\n",
    "      False otherwise\n",
    "    '''\n",
    "    # FILL IN YOUR CODE HERE...\n",
    "    # for each letter in secretword \n",
    "    #   if letter is in LG \n",
    "    #     set to true\n",
    "    #   else\n",
    "    #     false\n",
    "    googabooga=True\n",
    "    for letter in secretWord:\n",
    "        if not letter in lettersGuessed:\n",
    "            googabooga=False\n",
    "    return googabooga\n",
    "    "
   ]
  },
  {
   "cell_type": "code",
   "execution_count": 12,
   "metadata": {},
   "outputs": [],
   "source": [
    "def getGuessedWord(secretWord, lettersGuessed):\n",
    "    '''\n",
    "    secretWord: string, the word the user is guessing\n",
    "    lettersGuessed: list, what letters have been guessed so far\n",
    "    returns: string, comprised of letters and underscores that represents\n",
    "      what letters in secretWord have been guessed so far.\n",
    "    '''\n",
    "    # FILL IN YOUR CODE HERE...\n",
    "    # loop through secret word \n",
    "    # get each letter looped through sw\n",
    "    #if l is in lg restore letter\n",
    "    # store letter in output string\n",
    "    # else store underscore and space  \n",
    "    boogabooga=''\n",
    "    \n",
    "    for letter in secretWord:\n",
    "        if letter not in lettersGuessed:\n",
    "            boogabooga=boogabooga+'_ '\n",
    "        else: \n",
    "            boogabooga=boogabooga+(letter+' ')\n",
    "    return boogabooga\n",
    "    return nog\n",
    "    print(boogabooga)"
   ]
  },
  {
   "cell_type": "code",
   "execution_count": 13,
   "metadata": {},
   "outputs": [],
   "source": [
    "def getAvailableLetters(lettersGuessed):\n",
    "    '''\n",
    "    lettersGuessed: list, what letters have been guessed so far\n",
    "    returns: string, comprised of letters that represents what letters have not\n",
    "      yet been guessed.\n",
    "    '''\n",
    "    # FILL IN YOUR CODE HERE...\n",
    "    \n",
    "    oogabooga = 'a b c d e f g h i j k l m n o p q r s t u v w x y z'\n",
    "    for letter in lettersGuessed:\n",
    "        if letter in oogabooga:\n",
    "            oogabooga= oogabooga.replace(letter,'_')\n",
    "    return oogabooga\n",
    "    print(oogabooga) \n"
   ]
  },
  {
   "cell_type": "code",
   "execution_count": 14,
   "metadata": {},
   "outputs": [],
   "source": [
    "def hangman(secretWord):\n",
    "    '''\n",
    "    secretWord: string, the secret word to guess.\n",
    "\n",
    "    Starts up an interactive game of Hangman.\n",
    "\n",
    "    * At the start of the game, let the user know how many \n",
    "      letters the secretWord contains.\n",
    "\n",
    "    * Ask the user to supply one guess (i.e. letter) per round.\n",
    "\n",
    "    * The user should receive feedback immediately after each guess \n",
    "      about whether their guess appears in the computers word.\n",
    "\n",
    "    * After each round, you should also display to the user the \n",
    "      partially guessed word so far, as well as letters that the \n",
    "      user has not yet guessed.\n",
    "\n",
    "    Follows the other limitations detailed in the problem write-up.\n",
    "    '''\n",
    "    # FILL IN YOUR CODE HERE...\n",
    "    yn='n'\n",
    "    while yn=='n':\n",
    "      print('Hello, would you like to play a game of hangman with me y/n')\n",
    "      yn=input('y/n')\n",
    "    hml=len(secretWord)\n",
    "    print('there are',hml, 'letters in this word')\n",
    "    nog=7\n",
    "    lng=0\n",
    "    lettersguessed=''\n",
    "    while nog>0 and not isWordGuessed(secretWord, lettersguessed):\n",
    "      ta=input('enter a letter')\n",
    "      if ta in lettersguessed:\n",
    "        print('oops, it looks like you already entered that letter, try again')\n",
    "      else:\n",
    "        lettersguessed=lettersguessed+ta    \n",
    "      nog=(nognog(secretWord, lettersguessed))\n",
    "      if isWordGuessed(secretWord, lettersguessed)==True:\n",
    "        print('YOU WIN!!!. your word was', secretWord)\n",
    "      elif nog==0:\n",
    "        print('out of guesses, oh well better luck next time.')\n",
    "      elif lng>len(lettersguessed):\n",
    "        lng=lng-1\n",
    "        print('oops, you already guessed that, try again')\n",
    "      else:\n",
    "         print('try again, your word so far is', getGuessedWord(secretWord, lettersguessed), 'here are the letters left to use',getAvailableLetters(lettersguessed), 'and you have',nog,'guesses left')\n",
    "        "
   ]
  },
  {
   "cell_type": "code",
   "execution_count": 15,
   "metadata": {},
   "outputs": [
    {
     "data": {
      "text/plain": [
       "False"
      ]
     },
     "execution_count": 15,
     "metadata": {},
     "output_type": "execute_result"
    }
   ],
   "source": [
    "isWordGuessed(\"apple \", ['a', 'e', 'p', 'l','q'])"
   ]
  },
  {
   "cell_type": "code",
   "execution_count": 16,
   "metadata": {},
   "outputs": [
    {
     "data": {
      "text/plain": [
       "'a p p _ _ '"
      ]
     },
     "execution_count": 16,
     "metadata": {},
     "output_type": "execute_result"
    }
   ],
   "source": [
    "getGuessedWord('apple', ['a','p','r','s','t','x','o',] )"
   ]
  },
  {
   "cell_type": "code",
   "execution_count": 17,
   "metadata": {},
   "outputs": [
    {
     "data": {
      "text/plain": [
       "'_'"
      ]
     },
     "execution_count": 17,
     "metadata": {},
     "output_type": "execute_result"
    }
   ],
   "source": [
    "getAvailableLetters(['a b c d e f g h i j k l m n o p q r s t u v w x y z'])"
   ]
  },
  {
   "cell_type": "code",
   "execution_count": 18,
   "metadata": {},
   "outputs": [],
   "source": [
    "def nognog(secretword, lettersGuessed):\n",
    "    nog=8\n",
    "    for letter in lettersGuessed:\n",
    "        if letter not in secretword:\n",
    "            nog=nog-1\n",
    "    return nog"
   ]
  },
  {
   "cell_type": "code",
   "execution_count": 19,
   "metadata": {},
   "outputs": [
    {
     "name": "stdout",
     "output_type": "stream",
     "text": [
      "Hello, would you like to play a game of hangman with me y/n\n",
      "Hello, would you like to play a game of hangman with me y/n\n",
      "Hello, would you like to play a game of hangman with me y/n\n",
      "Hello, would you like to play a game of hangman with me y/n\n",
      "Hello, would you like to play a game of hangman with me y/n\n",
      "Hello, would you like to play a game of hangman with me y/n\n",
      "Hello, would you like to play a game of hangman with me y/n\n",
      "Hello, would you like to play a game of hangman with me y/n\n",
      "there are 7 letters in this word\n",
      "try again, your word so far is _ _ _ _ _ _ _  here are the letters left to use a b c d e f g h i j k l m _ o p q r s t u v w x y z and you have 7 guesses left\n",
      "oops, it looks like you already entered that letter, try again\n",
      "try again, your word so far is _ _ _ _ _ _ _  here are the letters left to use a b c d e f g h i j k l m _ o p q r s t u v w x y z and you have 7 guesses left\n",
      "oops, it looks like you already entered that letter, try again\n",
      "try again, your word so far is _ _ _ _ _ _ _  here are the letters left to use a b c d e f g h i j k l m _ o p q r s t u v w x y z and you have 7 guesses left\n",
      "oops, it looks like you already entered that letter, try again\n",
      "try again, your word so far is _ _ _ _ _ _ _  here are the letters left to use a b c d e f g h i j k l m _ o p q r s t u v w x y z and you have 7 guesses left\n",
      "try again, your word so far is _ _ _ _ _ _ _  here are the letters left to use a b c d _ f g h i j k l m _ o p q r s t u v w x y z and you have 6 guesses left\n",
      "try again, your word so far is _ _ _ _ _ _ _  here are the letters left to use _ b c d _ f g h i j k l m _ o p q r s t u v w x y z and you have 5 guesses left\n",
      "try again, your word so far is _ _ _ _ _ _ _  here are the letters left to use _ b c d _ f g h _ j k l m _ o p q r s t u v w x y z and you have 4 guesses left\n",
      "try again, your word so far is _ _ _ _ _ _ _  here are the letters left to use _ b c d _ f g h _ j k l m _ _ p q r s t u v w x y z and you have 3 guesses left\n",
      "try again, your word so far is _ _ _ _ _ _ _  here are the letters left to use _ b c d _ f g h _ j k l m _ _ p q r s t _ v w x y z and you have 2 guesses left\n",
      "oops, it looks like you already entered that letter, try again\n",
      "try again, your word so far is _ _ _ _ _ _ _  here are the letters left to use _ b c d _ f g h _ j k l m _ _ p q r s t _ v w x y z and you have 2 guesses left\n",
      "try again, your word so far is _ _ _ _ _ _ _  here are the letters left to use _ b c d _ f g h _ j k l m _ _ p q r s t _ v w x _ z and you have 1 guesses left\n",
      "try again, your word so far is x x x _ x x x  here are the letters left to use _ b c d _ f g h _ j k l m _ _ p q r s t _ v w _ _ z and you have 1 guesses left\n",
      "YOU WIN!!!. your word was xxxvxxx\n"
     ]
    }
   ],
   "source": [
    "secretword='xxxvxxx'\n",
    "\n",
    "hangman(secretword)"
   ]
  },
  {
   "cell_type": "code",
   "execution_count": 21,
   "metadata": {},
   "outputs": [
    {
     "ename": "SyntaxError",
     "evalue": "cannot assign to expression here. Maybe you meant '==' instead of '='? (829689945.py, line 3)",
     "output_type": "error",
     "traceback": [
      "\u001b[1;36m  Cell \u001b[1;32mIn[21], line 3\u001b[1;36m\u001b[0m\n\u001b[1;33m    aTuple+aTuple=(3, )\u001b[0m\n\u001b[1;37m    ^\u001b[0m\n\u001b[1;31mSyntaxError\u001b[0m\u001b[1;31m:\u001b[0m cannot assign to expression here. Maybe you meant '==' instead of '='?\n"
     ]
    }
   ],
   "source": [
    "aTuple=(5,3,1,4)\n",
    "aTuple[0]\n",
    "aTuple+aTuple=(3, )"
   ]
  }
 ],
 "metadata": {
  "kernelspec": {
   "display_name": "base",
   "language": "python",
   "name": "python3"
  },
  "language_info": {
   "codemirror_mode": {
    "name": "ipython",
    "version": 3
   },
   "file_extension": ".py",
   "mimetype": "text/x-python",
   "name": "python",
   "nbconvert_exporter": "python",
   "pygments_lexer": "ipython3",
   "version": "3.11.4"
  },
  "orig_nbformat": 4
 },
 "nbformat": 4,
 "nbformat_minor": 2
}
