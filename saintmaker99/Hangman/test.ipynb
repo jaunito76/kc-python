{
 "cells": [
  {
   "cell_type": "code",
   "execution_count": 84,
   "metadata": {},
   "outputs": [],
   "source": [
    "def isWordGuessed(secretWord, lettersGuessed):\n",
    "    '''\n",
    "    secretWord: string, the word the user is guessing\n",
    "    lettersGuessed: list, what letters have been guessed so far\n",
    "    returns: boolean, True if all the letters of secretWord are in lettersGuessed;\n",
    "      False otherwise\n",
    "    '''\n",
    "    # FILL IN YOUR CODE HERE...\n",
    "    # for each letter in secretword \n",
    "    #   if letter is in LG \n",
    "    #     set to true\n",
    "    #   else\n",
    "    #     false\n",
    "    googabooga=True\n",
    "    for letter in secretWord:\n",
    "        if not letter in lettersGuessed:\n",
    "            googabooga=False\n",
    "    return googabooga\n",
    "    "
   ]
  },
  {
   "cell_type": "code",
   "execution_count": 85,
   "metadata": {},
   "outputs": [],
   "source": [
    "def getGuessedWord(secretWord, lettersGuessed):\n",
    "    '''\n",
    "    secretWord: string, the word the user is guessing\n",
    "    lettersGuessed: list, what letters have been guessed so far\n",
    "    returns: string, comprised of letters and underscores that represents\n",
    "      what letters in secretWord have been guessed so far.\n",
    "    '''\n",
    "    # FILL IN YOUR CODE HERE...\n",
    "    # loop through secret word \n",
    "    # get each letter looped through sw\n",
    "    #if l is in lg restore letter\n",
    "    # store letter in output string\n",
    "    # else store underscore and space  \n",
    "    boogabooga=''\n",
    "    for letter in secretWord:\n",
    "        if letter not in lettersGuessed:\n",
    "            boogabooga=boogabooga+'_ '\n",
    "        else: \n",
    "            boogabooga=boogabooga+(letter+' ')\n",
    "    return boogabooga"
   ]
  },
  {
   "cell_type": "code",
   "execution_count": 86,
   "metadata": {},
   "outputs": [],
   "source": [
    "def getAvailableLetters(lettersGuessed):\n",
    "    '''\n",
    "    lettersGuessed: list, what letters have been guessed so far\n",
    "    returns: string, comprised of letters that represents what letters have not\n",
    "      yet been guessed.\n",
    "    '''\n",
    "    # FILL IN YOUR CODE HERE...\n",
    "    \n",
    "    oogabooga = 'a b c d e f g h i j k l m n o p q r s t u v w x y z'\n",
    "    for letter in lettersGuessed:\n",
    "        if letter in oogabooga:\n",
    "            oogabooga= oogabooga.replace(letter,'_')\n",
    "    return oogabooga \n"
   ]
  },
  {
   "cell_type": "code",
   "execution_count": 87,
   "metadata": {},
   "outputs": [
    {
     "data": {
      "text/plain": [
       "False"
      ]
     },
     "execution_count": 87,
     "metadata": {},
     "output_type": "execute_result"
    }
   ],
   "source": [
    "isWordGuessed(\"apple \", ['a', 'e', 'p', 'l','q'])"
   ]
  },
  {
   "cell_type": "code",
   "execution_count": 88,
   "metadata": {},
   "outputs": [
    {
     "data": {
      "text/plain": [
       "'a p p l _ '"
      ]
     },
     "execution_count": 88,
     "metadata": {},
     "output_type": "execute_result"
    }
   ],
   "source": [
    "getGuessedWord('apple', ['a','p','r','s','t','l','n','x','o',] )"
   ]
  },
  {
   "cell_type": "code",
   "execution_count": 89,
   "metadata": {},
   "outputs": [
    {
     "data": {
      "text/plain": [
       "'a b c d e f g h i j k l m n o p q r s t _ v w x y z'"
      ]
     },
     "execution_count": 89,
     "metadata": {},
     "output_type": "execute_result"
    }
   ],
   "source": [
    "getAvailableLetters(['u'])"
   ]
  }
 ],
 "metadata": {
  "kernelspec": {
   "display_name": "base",
   "language": "python",
   "name": "python3"
  },
  "language_info": {
   "codemirror_mode": {
    "name": "ipython",
    "version": 3
   },
   "file_extension": ".py",
   "mimetype": "text/x-python",
   "name": "python",
   "nbconvert_exporter": "python",
   "pygments_lexer": "ipython3",
   "version": "3.11.4"
  },
  "orig_nbformat": 4
 },
 "nbformat": 4,
 "nbformat_minor": 2
}
