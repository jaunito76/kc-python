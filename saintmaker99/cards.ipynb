{
 "cells": [
  {
   "cell_type": "code",
   "execution_count": null,
   "metadata": {},
   "outputs": [],
   "source": [
    "class card(deck):\n",
    "    def __init__(self, number: int, suit: str):\n",
    "        self._suit=[]\n",
    "        self._number=[]\n",
    "    "
   ]
  }
 ],
 "metadata": {
  "language_info": {
   "name": "python"
  }
 },
 "nbformat": 4,
 "nbformat_minor": 2
}
