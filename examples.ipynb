{
 "cells": [
  {
   "cell_type": "markdown",
   "metadata": {},
   "source": [
    "# Square Root - Bisection Search\n",
    "This program will find the square root of a number using the bisection search, it also demonstrates\n",
    "the use of a function (squareRoot())"
   ]
  },
  {
   "cell_type": "code",
   "execution_count": 1,
   "metadata": {},
   "outputs": [
    {
     "name": "stdout",
     "output_type": "stream",
     "text": [
      "The square root of 10.0 is approximately 3.162277660168229\n"
     ]
    }
   ],
   "source": [
    "def squareRoot(x, epsilon):\n",
    "    low = 0.0\n",
    "    high = max(1.0, x)\n",
    "    ans = (high + low) / 2.0\n",
    "    while abs(ans**2 - x) >= epsilon:\n",
    "        if ans**2 < x:\n",
    "            low = ans\n",
    "        else:\n",
    "            high = ans\n",
    "        ans = (high + low) / 2.0\n",
    "    return ans\n",
    "\n",
    "x = float(input(\"Enter a number: \"))\n",
    "epsilon = 0.000000000001\n",
    "print(\"The square root of\", x, \"is approximately\", squareRoot(x, epsilon))"
   ]
  },
  {
   "cell_type": "markdown",
   "metadata": {},
   "source": [
    "# Guess a number Program\n",
    "This program will have the computer guess the number that you are thinking of between 0 and 100"
   ]
  },
  {
   "cell_type": "code",
   "execution_count": 5,
   "metadata": {},
   "outputs": [
    {
     "data": {
      "text/plain": [
       "5"
      ]
     },
     "execution_count": 5,
     "metadata": {},
     "output_type": "execute_result"
    }
   ],
   "source": [
    "guess=50\n",
    "numbers_guessed=0\n",
    "low = 0\n",
    "high = 101\n",
    "letter = ''\n",
    "print('What is your number between 0 and 100?')\n",
    "while letter!='e':\n",
    "    print(f'The computer guesses {guess} the high is {high} the low is {low}')\n",
    "    letter=input(f'Higher, lower or exactly (h,l,e): ')\n",
    "    numbers_guessed += 1\n",
    "    if letter=='h':\n",
    "        low = guess\n",
    "    elif letter=='l':\n",
    "        high = guess\n",
    "    elif letter=='e':\n",
    "        print('Your number is:', guess,'The computer took', numbers_guessed, \n",
    "              'guess' if numbers_guessed == 1 else 'guesses')\n",
    "    guess = int((high+low)/2)"
   ]
  },
  {
   "cell_type": "code",
   "execution_count": 6,
   "metadata": {},
   "outputs": [
    {
     "name": "stdout",
     "output_type": "stream",
     "text": [
      "The egg was dropped from 51\n",
      "High: 102 low: 1 floor: 51\n",
      "The egg was dropped from 26\n",
      "High: 51 low: 1 floor: 26\n",
      "The egg was dropped from 13\n",
      "High: 26 low: 1 floor: 13\n",
      "The egg was dropped from 7\n",
      "High: 13 low: 1 floor: 7\n",
      "The egg was dropped from 4\n",
      "High: 7 low: 1 floor: 4\n",
      "The egg was dropped from 5\n",
      "High: 7 low: 4 floor: 5\n"
     ]
    }
   ],
   "source": [
    "high = 102\n",
    "low = 1\n",
    "floor = int((high + low)/2)\n",
    "broken = ''\n",
    "while broken.lower() != 'n':\n",
    "    print(f'The egg was dropped from {floor}')\n",
    "    print(f'High: {high} low: {low} floor: {floor}')\n",
    "    broken = input('Did it break? >')\n",
    "    if broken.lower() == 'y':\n",
    "        high = floor\n",
    "    else:\n",
    "        low = floor\n",
    "    floor = int((high + low)/2)\n"
   ]
  },
  {
   "cell_type": "code",
   "execution_count": 2,
   "metadata": {},
   "outputs": [
    {
     "data": {
      "text/plain": [
       "3.1622776601683795"
      ]
     },
     "execution_count": 2,
     "metadata": {},
     "output_type": "execute_result"
    }
   ],
   "source": [
    "10**0.5"
   ]
  },
  {
   "cell_type": "code",
   "execution_count": 3,
   "metadata": {},
   "outputs": [
    {
     "data": {
      "text/plain": [
       "2.449493408203125"
      ]
     },
     "execution_count": 3,
     "metadata": {},
     "output_type": "execute_result"
    }
   ],
   "source": [
    "squareRoot(6, 0.0001)"
   ]
  },
  {
   "cell_type": "code",
   "execution_count": 4,
   "metadata": {},
   "outputs": [],
   "source": [
    "def AddOne(x):\n",
    "    return x + 1"
   ]
  },
  {
   "cell_type": "code",
   "execution_count": 5,
   "metadata": {},
   "outputs": [
    {
     "data": {
      "text/plain": [
       "3"
      ]
     },
     "execution_count": 5,
     "metadata": {},
     "output_type": "execute_result"
    }
   ],
   "source": [
    "AddOne(2)"
   ]
  },
  {
   "cell_type": "markdown",
   "metadata": {},
   "source": [
    "# Square root function homework"
   ]
  },
  {
   "cell_type": "code",
   "execution_count": 19,
   "metadata": {},
   "outputs": [],
   "source": [
    "def square_root(number, bill=2, sally='hello', five_dogs_of_greek_myths=''):\n",
    "    x = number\n",
    "    epsilon = 0.0000000000001\n",
    "    guess = x/2\n",
    "    while abs(guess**2 - x) >= epsilon:\n",
    "        guess = guess - ((guess**2) - x)/(2*guess)\n",
    "    print('Bill is:', bill)\n",
    "    print('Sally is:', sally)\n",
    "    print('fdogm is:', five_dogs_of_greek_myths)\n",
    "    return guess"
   ]
  },
  {
   "cell_type": "code",
   "execution_count": 21,
   "metadata": {},
   "outputs": [
    {
     "name": "stdout",
     "output_type": "stream",
     "text": [
      "Bill is: 3\n",
      "Sally is: 6\n",
      "fdogm is: 7\n",
      "3.0\n"
     ]
    }
   ],
   "source": [
    "print(square_root(9,3,6,7))"
   ]
  },
  {
   "cell_type": "markdown",
   "metadata": {},
   "source": [
    "# Mult Function Homework"
   ]
  },
  {
   "cell_type": "code",
   "execution_count": 22,
   "metadata": {},
   "outputs": [],
   "source": [
    "def mult(x, y = 1):\n",
    "    return x * y"
   ]
  },
  {
   "cell_type": "code",
   "execution_count": 25,
   "metadata": {},
   "outputs": [
    {
     "data": {
      "text/plain": [
       "6.0"
      ]
     },
     "execution_count": 25,
     "metadata": {},
     "output_type": "execute_result"
    }
   ],
   "source": [
    "mult(2,3.0)"
   ]
  },
  {
   "cell_type": "code",
   "execution_count": 4,
   "metadata": {},
   "outputs": [],
   "source": [
    "def func_name(x):   \n",
    "    print('hello, the value of x is:', x)"
   ]
  },
  {
   "cell_type": "code",
   "execution_count": 7,
   "metadata": {},
   "outputs": [
    {
     "name": "stdout",
     "output_type": "stream",
     "text": [
      "hello, the value of x is: 5\n",
      "hello, the value of x is: 6\n",
      "hello, the value of x is: 112\n"
     ]
    }
   ],
   "source": [
    "func_name(5)\n",
    "func_name(6)\n",
    "func_name(112)"
   ]
  },
  {
   "cell_type": "code",
   "execution_count": 26,
   "metadata": {},
   "outputs": [
    {
     "data": {
      "text/plain": [
       "<function __main__.func_name(x)>"
      ]
     },
     "execution_count": 26,
     "metadata": {},
     "output_type": "execute_result"
    }
   ],
   "source": [
    "func_name"
   ]
  },
  {
   "cell_type": "code",
   "execution_count": 27,
   "metadata": {},
   "outputs": [],
   "source": [
    "def this_is_function_func(func):\n",
    "    print(func(5))"
   ]
  },
  {
   "cell_type": "code",
   "execution_count": 28,
   "metadata": {},
   "outputs": [
    {
     "name": "stdout",
     "output_type": "stream",
     "text": [
      "hello, the value of x is: 5\n",
      "None\n"
     ]
    }
   ],
   "source": [
    "this_is_function_func(func_name)"
   ]
  },
  {
   "cell_type": "code",
   "execution_count": 29,
   "metadata": {},
   "outputs": [
    {
     "name": "stdout",
     "output_type": "stream",
     "text": [
      "(1, 2)\n"
     ]
    }
   ],
   "source": [
    "xt = (1, 2)\n",
    "yt = xt\n",
    "xt = (1, 3)\n",
    "print(yt)"
   ]
  },
  {
   "cell_type": "code",
   "execution_count": 31,
   "metadata": {},
   "outputs": [
    {
     "name": "stdout",
     "output_type": "stream",
     "text": [
      "[1, 2, 3]\n"
     ]
    }
   ],
   "source": [
    "xl = [1,2]\n",
    "yl = xl\n",
    "xl.append(3)\n",
    "print(yl)"
   ]
  },
  {
   "cell_type": "code",
   "execution_count": 2,
   "metadata": {},
   "outputs": [
    {
     "data": {
      "text/plain": [
       "7"
      ]
     },
     "execution_count": 2,
     "metadata": {},
     "output_type": "execute_result"
    }
   ],
   "source": [
    "len('abcdefg')"
   ]
  },
  {
   "cell_type": "code",
   "execution_count": 4,
   "metadata": {},
   "outputs": [
    {
     "name": "stdout",
     "output_type": "stream",
     "text": [
      "[2, 4]\n"
     ]
    }
   ],
   "source": [
    "def remove_dups(L1, L2):\n",
    "    for e in L1:            # Need to make a copy of this list first or the internal python counter will skip the second element...\n",
    "        if e in L2:\n",
    "            L1.remove(e)\n",
    "L1 = [1,2,3,4,6]\n",
    "L2 = [1,2,3,5,6]\n",
    "remove_dups(L1,L2)\n",
    "print(L1)"
   ]
  },
  {
   "cell_type": "code",
   "execution_count": 2,
   "metadata": {},
   "outputs": [
    {
     "name": "stdout",
     "output_type": "stream",
     "text": [
      "98e9fc90604ddf68d8cec55c82276274982506ddcc637b4ff2da5a7ac6fc202f\n"
     ]
    }
   ],
   "source": [
    "import hashlib\n",
    "\n",
    "password = \"Lana&CJ1\"\n",
    "# Create a SHA-256 hash object\n",
    "hash_object = hashlib.sha256()\n",
    "# Convert the password to bytes and hash it\n",
    "hash_object.update(password.encode())\n",
    "# Get the hex digest of the hash\n",
    "hash_password = hash_object.hexdigest()\n",
    "print(hash_password)\n",
    "print()"
   ]
  },
  {
   "cell_type": "code",
   "execution_count": 3,
   "metadata": {},
   "outputs": [
    {
     "name": "stdout",
     "output_type": "stream",
     "text": [
      "b'cGFzc3dvcmQ='\n",
      "password\n"
     ]
    }
   ],
   "source": [
    "import base64\n",
    "print(base64.b64encode(\"password\".encode(\"utf-8\")))\n",
    "print(base64.b64decode(\"cGFzc3dvcmQ=\").decode(\"utf-8\"))\n"
   ]
  },
  {
   "cell_type": "code",
   "execution_count": 4,
   "metadata": {},
   "outputs": [
    {
     "name": "stdout",
     "output_type": "stream",
     "text": [
      "    #\n",
      "   ##\n",
      "  ###\n",
      " ####\n",
      "#####\n"
     ]
    }
   ],
   "source": [
    "def main():\n",
    "    height = int(input(\"Enter the height of the pyramid: \"))\n",
    "    pyramid(height)\n",
    "    \n",
    "def pyramid(n):\n",
    "    for i in range(n):\n",
    "        s = '#' * (i+1)\n",
    "        print(s.rjust(n))\n",
    "        \n",
    "if __name__==\"__main__\":\n",
    "    main()"
   ]
  }
 ],
 "metadata": {
  "kernelspec": {
   "display_name": "Python 3",
   "language": "python",
   "name": "python3"
  },
  "language_info": {
   "codemirror_mode": {
    "name": "ipython",
    "version": 3
   },
   "file_extension": ".py",
   "mimetype": "text/x-python",
   "name": "python",
   "nbconvert_exporter": "python",
   "pygments_lexer": "ipython3",
   "version": "3.12.0"
  },
  "orig_nbformat": 4
 },
 "nbformat": 4,
 "nbformat_minor": 2
}
